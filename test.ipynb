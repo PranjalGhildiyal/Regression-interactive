{
 "cells": [
  {
   "cell_type": "code",
   "execution_count": 4,
   "metadata": {},
   "outputs": [
    {
     "ename": "SyntaxError",
     "evalue": "invalid syntax (Regressors.py, line 93)",
     "output_type": "error",
     "traceback": [
      "Traceback \u001b[1;36m(most recent call last)\u001b[0m:\n",
      "\u001b[0m  File \u001b[0;32mc:\\Users\\sizzl\\anaconda3\\envs\\Regression-interactive\\lib\\site-packages\\IPython\\core\\interactiveshell.py:3508\u001b[0m in \u001b[0;35mrun_code\u001b[0m\n    exec(code_obj, self.user_global_ns, self.user_ns)\u001b[0m\n",
      "\u001b[0m  Cell \u001b[0;32mIn[4], line 1\u001b[0m\n    from src.Panel.ML_visualizer_Regression import Visualize_Regression\u001b[0m\n",
      "\u001b[0m  File \u001b[0;32mc:\\Users\\sizzl\\OneDrive - Algo8.ai\\Desktop (2)\\one-thing\\Regression-interactive\\src\\Panel\\ML_visualizer_Regression.py:6\u001b[0m\n    from src.Panel.ML_visualizer import Visualize_ML\u001b[0m\n",
      "\u001b[1;36m  File \u001b[1;32mc:\\Users\\sizzl\\OneDrive - Algo8.ai\\Desktop (2)\\one-thing\\Regression-interactive\\src\\Panel\\ML_visualizer.py:10\u001b[1;36m\n\u001b[1;33m    from src.Regression.Regressors import Regressor\u001b[1;36m\n",
      "\u001b[1;36m  File \u001b[1;32mc:\\Users\\sizzl\\OneDrive - Algo8.ai\\Desktop (2)\\one-thing\\Regression-interactive\\src\\Regression\\Regressors.py:93\u001b[1;36m\u001b[0m\n\u001b[1;33m    hyperparameters[i] =\u001b[0m\n\u001b[1;37m                         ^\u001b[0m\n\u001b[1;31mSyntaxError\u001b[0m\u001b[1;31m:\u001b[0m invalid syntax\n"
     ]
    }
   ],
   "source": [
    "from src.Panel.ML_visualizer_Regression import Visualize_Regression"
   ]
  },
  {
   "cell_type": "code",
   "execution_count": 1,
   "metadata": {},
   "outputs": [],
   "source": [
    "from dataclasses import dataclass"
   ]
  },
  {
   "cell_type": "code",
   "execution_count": 2,
   "metadata": {},
   "outputs": [],
   "source": [
    "from config.model_types import ModelArchive"
   ]
  },
  {
   "cell_type": "code",
   "execution_count": 3,
   "metadata": {},
   "outputs": [],
   "source": [
    "from config.model_types import ModelArchive\n",
    "\n",
    "@dataclass\n",
    "class ModelAssignment:\n",
    "    model_type:str\n",
    "\n",
    "    @property\n",
    "    def model(self):\n",
    "        return ModelArchive().regression[self.model_type]\n",
    "    \n",
    "    @property\n",
    "    def dataclass(self):\n",
    "        return ModelArchive().regression"
   ]
  },
  {
   "cell_type": "code",
   "execution_count": 4,
   "metadata": {},
   "outputs": [],
   "source": [
    "a= ModelAssignment('LinearRegression')"
   ]
  },
  {
   "cell_type": "code",
   "execution_count": 5,
   "metadata": {},
   "outputs": [
    {
     "data": {
      "text/plain": [
       "sklearn.linear_model._base.LinearRegression"
      ]
     },
     "execution_count": 5,
     "metadata": {},
     "output_type": "execute_result"
    }
   ],
   "source": [
    "a.get_model"
   ]
  },
  {
   "cell_type": "code",
   "execution_count": 9,
   "metadata": {},
   "outputs": [],
   "source": [
    "b = ModelArchive()"
   ]
  },
  {
   "cell_type": "code",
   "execution_count": 10,
   "metadata": {},
   "outputs": [
    {
     "ename": "AttributeError",
     "evalue": "'ModelArchive' object has no attribute 'regression'",
     "output_type": "error",
     "traceback": [
      "\u001b[1;31m---------------------------------------------------------------------------\u001b[0m",
      "\u001b[1;31mAttributeError\u001b[0m                            Traceback (most recent call last)",
      "Cell \u001b[1;32mIn[10], line 1\u001b[0m\n\u001b[1;32m----> 1\u001b[0m b\u001b[39m.\u001b[39;49mregression\n",
      "\u001b[1;31mAttributeError\u001b[0m: 'ModelArchive' object has no attribute 'regression'"
     ]
    }
   ],
   "source": [
    "b.regression"
   ]
  },
  {
   "cell_type": "code",
   "execution_count": 11,
   "metadata": {},
   "outputs": [
    {
     "name": "stdout",
     "output_type": "stream",
     "text": [
      "your_api_key_here\n",
      "True\n",
      "5\n",
      "{'api_key': 'your_api_key_here', 'debug_mode': True, 'max_retry_attempts': 5}\n"
     ]
    }
   ],
   "source": [
    "from dataclasses import dataclass, asdict\n",
    "\n",
    "@dataclass\n",
    "class AppConfig:\n",
    "    api_key: str\n",
    "    debug_mode: bool = False\n",
    "    max_retry_attempts: int = 3\n",
    "\n",
    "    @classmethod\n",
    "    def from_dict(cls, config_dict):\n",
    "        return cls(**config_dict)\n",
    "\n",
    "# Create a dictionary with configuration values\n",
    "config_dict = {\n",
    "    'api_key': 'your_api_key_here',\n",
    "    'debug_mode': True,\n",
    "    'max_retry_attempts': 5\n",
    "}\n",
    "\n",
    "# Create an AppConfig instance from the dictionary\n",
    "config = AppConfig.from_dict(config_dict)\n",
    "\n",
    "# Access configuration attributes\n",
    "print(config.api_key)\n",
    "print(config.debug_mode)\n",
    "print(config.max_retry_attempts)\n",
    "\n",
    "# Convert the config instance back to a dictionary\n",
    "config_as_dict = asdict(config)\n",
    "print(config_as_dict)"
   ]
  },
  {
   "cell_type": "code",
   "execution_count": 1,
   "metadata": {},
   "outputs": [],
   "source": [
    "from config.model_types import RegressionModelAssignment"
   ]
  },
  {
   "cell_type": "code",
   "execution_count": 2,
   "metadata": {},
   "outputs": [],
   "source": [
    "a= RegressionModelAssignment('LinearRegression')"
   ]
  },
  {
   "cell_type": "code",
   "execution_count": 3,
   "metadata": {},
   "outputs": [
    {
     "ename": "KeyError",
     "evalue": "'LinearRegression'",
     "output_type": "error",
     "traceback": [
      "\u001b[1;31m---------------------------------------------------------------------------\u001b[0m",
      "\u001b[1;31mKeyError\u001b[0m                                  Traceback (most recent call last)",
      "Cell \u001b[1;32mIn[3], line 1\u001b[0m\n\u001b[1;32m----> 1\u001b[0m a\u001b[39m.\u001b[39;49mhyperparameters\n",
      "File \u001b[1;32mc:\\Users\\sizzl\\OneDrive - Algo8.ai\\Desktop (2)\\one-thing\\Regression-interactive\\config\\model_types.py:135\u001b[0m, in \u001b[0;36mRegressionModelAssignment.hyperparameters\u001b[1;34m(self)\u001b[0m\n\u001b[0;32m    132\u001b[0m \u001b[39m@property\u001b[39m\n\u001b[0;32m    133\u001b[0m \u001b[39mdef\u001b[39;00m \u001b[39mhyperparameters\u001b[39m(\u001b[39mself\u001b[39m):\n\u001b[0;32m    134\u001b[0m     knowledge \u001b[39m=\u001b[39m {}\n\u001b[1;32m--> 135\u001b[0m     signature \u001b[39m=\u001b[39m inspect\u001b[39m.\u001b[39msignature(\u001b[39mself\u001b[39;49m\u001b[39m.\u001b[39;49mmodel\u001b[39m.\u001b[39m\u001b[39m__init__\u001b[39m)\n\u001b[0;32m    136\u001b[0m     \u001b[39mfor\u001b[39;00m name, param \u001b[39min\u001b[39;00m signature\u001b[39m.\u001b[39mparameters\u001b[39m.\u001b[39mitems():\n\u001b[0;32m    137\u001b[0m         \u001b[39m#Iterating over parameters of a single model\u001b[39;00m\n\u001b[0;32m    138\u001b[0m         \u001b[39mif\u001b[39;00m (name \u001b[39m!=\u001b[39m \u001b[39m\"\u001b[39m\u001b[39mself\u001b[39m\u001b[39m\"\u001b[39m) \u001b[39m&\u001b[39m (param\u001b[39m.\u001b[39mdefault \u001b[39m!=\u001b[39m inspect\u001b[39m.\u001b[39mParameter\u001b[39m.\u001b[39mempty):\n",
      "File \u001b[1;32mc:\\Users\\sizzl\\OneDrive - Algo8.ai\\Desktop (2)\\one-thing\\Regression-interactive\\config\\model_types.py:131\u001b[0m, in \u001b[0;36mRegressionModelAssignment.model\u001b[1;34m(self)\u001b[0m\n\u001b[0;32m    128\u001b[0m \u001b[39m@property\u001b[39m\n\u001b[0;32m    129\u001b[0m \u001b[39mdef\u001b[39;00m \u001b[39mmodel\u001b[39m(\u001b[39mself\u001b[39m):\n\u001b[0;32m    130\u001b[0m     \u001b[39mself\u001b[39m\u001b[39m.\u001b[39mvalidate()\n\u001b[1;32m--> 131\u001b[0m     \u001b[39mreturn\u001b[39;00m \u001b[39mself\u001b[39;49m\u001b[39m.\u001b[39;49marchive\u001b[39m.\u001b[39;49mregression[\u001b[39mself\u001b[39;49m\u001b[39m.\u001b[39;49mmodel_type]\n",
      "\u001b[1;31mKeyError\u001b[0m: 'LinearRegression'"
     ]
    }
   ],
   "source": [
    "a.hyperparameters"
   ]
  },
  {
   "cell_type": "code",
   "execution_count": 4,
   "metadata": {},
   "outputs": [
    {
     "data": {
      "text/plain": [
       "types.LinearRegression"
      ]
     },
     "execution_count": 4,
     "metadata": {},
     "output_type": "execute_result"
    }
   ],
   "source": [
    "a.hyperparameters_dataclass"
   ]
  },
  {
   "cell_type": "code",
   "execution_count": 5,
   "metadata": {},
   "outputs": [
    {
     "data": {
      "text/plain": [
       "[sklearn.linear_model._base.LinearRegression,\n",
       " sklearn.linear_model._stochastic_gradient.SGDRegressor,\n",
       " sklearn.linear_model._coordinate_descent.Lasso,\n",
       " sklearn.linear_model._coordinate_descent.ElasticNet,\n",
       " sklearn.linear_model._ridge.Ridge,\n",
       " sklearn.svm._classes.SVR,\n",
       " sklearn.ensemble._weight_boosting.AdaBoostRegressor,\n",
       " sklearn.ensemble._bagging.BaggingRegressor,\n",
       " sklearn.ensemble._hist_gradient_boosting.gradient_boosting.HistGradientBoostingRegressor,\n",
       " sklearn.ensemble._voting.VotingRegressor,\n",
       " sklearn.ensemble._stacking.StackingRegressor,\n",
       " sklearn.ensemble._gb.GradientBoostingRegressor,\n",
       " sklearn.ensemble._forest.ExtraTreesRegressor,\n",
       " xgboost.sklearn.XGBRegressor,\n",
       " sklearn.ensemble._forest.RandomForestRegressor]"
      ]
     },
     "execution_count": 5,
     "metadata": {},
     "output_type": "execute_result"
    }
   ],
   "source": [
    "a.all_available_models"
   ]
  },
  {
   "cell_type": "code",
   "execution_count": 6,
   "metadata": {},
   "outputs": [
    {
     "data": {
      "text/plain": [
       "['LinearRegression',\n",
       " 'SGDRegressor',\n",
       " 'Lasso',\n",
       " 'ElasticNet',\n",
       " 'Ridge',\n",
       " 'SVR',\n",
       " 'AdaboostRegressor',\n",
       " 'BaggingRegressor',\n",
       " 'HistGradientBoostingRegressor',\n",
       " 'VotingRegressor',\n",
       " 'StackingRegressor',\n",
       " 'GradientBoostingRegressor',\n",
       " 'ExtraTreesRegressor',\n",
       " 'XGBRegressor',\n",
       " 'RandomForestRegressor']"
      ]
     },
     "execution_count": 6,
     "metadata": {},
     "output_type": "execute_result"
    }
   ],
   "source": [
    "a.all_available_model_names"
   ]
  },
  {
   "cell_type": "code",
   "execution_count": 7,
   "metadata": {},
   "outputs": [],
   "source": [
    "from config.model_types import ModelAssignment"
   ]
  },
  {
   "cell_type": "code",
   "execution_count": 8,
   "metadata": {},
   "outputs": [
    {
     "data": {
      "text/plain": [
       "[sklearn.linear_model._base.LinearRegression,\n",
       " sklearn.linear_model._stochastic_gradient.SGDRegressor,\n",
       " sklearn.linear_model._coordinate_descent.Lasso,\n",
       " sklearn.linear_model._coordinate_descent.ElasticNet,\n",
       " sklearn.linear_model._ridge.Ridge,\n",
       " sklearn.svm._classes.SVR,\n",
       " sklearn.ensemble._weight_boosting.AdaBoostRegressor,\n",
       " sklearn.ensemble._bagging.BaggingRegressor,\n",
       " sklearn.ensemble._hist_gradient_boosting.gradient_boosting.HistGradientBoostingRegressor,\n",
       " sklearn.ensemble._voting.VotingRegressor,\n",
       " sklearn.ensemble._stacking.StackingRegressor,\n",
       " sklearn.ensemble._gb.GradientBoostingRegressor,\n",
       " sklearn.ensemble._forest.ExtraTreesRegressor,\n",
       " xgboost.sklearn.XGBRegressor,\n",
       " sklearn.ensemble._forest.RandomForestRegressor]"
      ]
     },
     "execution_count": 8,
     "metadata": {},
     "output_type": "execute_result"
    }
   ],
   "source": [
    "a = ModelAssignment()\n",
    "a.all_available_models"
   ]
  },
  {
   "cell_type": "code",
   "execution_count": 9,
   "metadata": {},
   "outputs": [
    {
     "data": {
      "text/plain": [
       "['LinearRegression',\n",
       " 'SGDRegressor',\n",
       " 'Lasso',\n",
       " 'ElasticNet',\n",
       " 'Ridge',\n",
       " 'SVR',\n",
       " 'AdaboostRegressor',\n",
       " 'BaggingRegressor',\n",
       " 'HistGradientBoostingRegressor',\n",
       " 'VotingRegressor',\n",
       " 'StackingRegressor',\n",
       " 'GradientBoostingRegressor',\n",
       " 'ExtraTreesRegressor',\n",
       " 'XGBRegressor',\n",
       " 'RandomForestRegressor']"
      ]
     },
     "execution_count": 9,
     "metadata": {},
     "output_type": "execute_result"
    }
   ],
   "source": [
    "a.all_available_model_names"
   ]
  },
  {
   "cell_type": "code",
   "execution_count": 10,
   "metadata": {},
   "outputs": [],
   "source": [
    "from config.model_types import ClassificationModelAssignment"
   ]
  },
  {
   "cell_type": "code",
   "execution_count": 11,
   "metadata": {},
   "outputs": [
    {
     "ename": "TypeError",
     "evalue": "__init__() missing 1 required positional argument: 'model_type'",
     "output_type": "error",
     "traceback": [
      "\u001b[1;31m---------------------------------------------------------------------------\u001b[0m",
      "\u001b[1;31mTypeError\u001b[0m                                 Traceback (most recent call last)",
      "Cell \u001b[1;32mIn[11], line 1\u001b[0m\n\u001b[1;32m----> 1\u001b[0m a \u001b[39m=\u001b[39m  ClassificationModelAssignment()\n",
      "\u001b[1;31mTypeError\u001b[0m: __init__() missing 1 required positional argument: 'model_type'"
     ]
    }
   ],
   "source": [
    "a =  ClassificationModelAssignment()"
   ]
  },
  {
   "cell_type": "code",
   "execution_count": null,
   "metadata": {},
   "outputs": [],
   "source": []
  },
  {
   "cell_type": "code",
   "execution_count": null,
   "metadata": {},
   "outputs": [],
   "source": []
  },
  {
   "cell_type": "code",
   "execution_count": 6,
   "metadata": {},
   "outputs": [
    {
     "data": {
      "text/plain": [
       "<property at 0x1d220ba8770>"
      ]
     },
     "execution_count": 6,
     "metadata": {},
     "output_type": "execute_result"
    }
   ],
   "source": [
    "RegressionModelAssignment.all_avaliable_model_names"
   ]
  },
  {
   "cell_type": "code",
   "execution_count": 1,
   "metadata": {},
   "outputs": [],
   "source": [
    "from src.Regression.Regression import Regression"
   ]
  },
  {
   "cell_type": "code",
   "execution_count": 2,
   "metadata": {},
   "outputs": [],
   "source": [
    "import pandas as pd\n",
    "data= pd.DataFrame({'Actual': [1, 2, 3, 4, 3, 6, 1, 2 ,3 ,4 ,1 ],\n",
    "                    'Actual1': [1, 2, 3, 4, 5, 6, 7, 8, 9, 10, 11],\n",
    "                  'Predictions': [1, 6, 5, 4, 9, 6, 1, 2 ,4 ,4 ,1 ]})"
   ]
  },
  {
   "cell_type": "code",
   "execution_count": 3,
   "metadata": {},
   "outputs": [],
   "source": [
    "an= Regression(data, 'Predictions')"
   ]
  },
  {
   "cell_type": "code",
   "execution_count": 4,
   "metadata": {},
   "outputs": [
    {
     "data": {
      "text/plain": [
       "sklearn.linear_model._base.LinearRegression"
      ]
     },
     "execution_count": 4,
     "metadata": {},
     "output_type": "execute_result"
    }
   ],
   "source": [
    "an.model_archive['LinearRegression']"
   ]
  },
  {
   "cell_type": "code",
   "execution_count": 10,
   "metadata": {},
   "outputs": [
    {
     "name": "stdout",
     "output_type": "stream",
     "text": [
      "<class 'sklearn.linear_model._base.LinearRegression'>\n",
      "LinearRegression\n"
     ]
    }
   ],
   "source": [
    "dataclasses= an.get_dataclass('LinearRegression')"
   ]
  },
  {
   "cell_type": "code",
   "execution_count": 12,
   "metadata": {},
   "outputs": [
    {
     "data": {
      "text/plain": [
       "bool"
      ]
     },
     "execution_count": 12,
     "metadata": {},
     "output_type": "execute_result"
    }
   ],
   "source": [
    "type(dataclasses.fit_intercept)"
   ]
  },
  {
   "cell_type": "code",
   "execution_count": 9,
   "metadata": {},
   "outputs": [],
   "source": [
    "from sklearn.linear_model import LinearRegression"
   ]
  },
  {
   "cell_type": "code",
   "execution_count": 10,
   "metadata": {},
   "outputs": [],
   "source": [
    "import inspect\n",
    "model_type = 'LinearRegression'\n",
    "\n",
    "model= LinearRegression\n",
    "knowledge = {}\n",
    "signature = inspect.signature(model.__init__)\n",
    "for name, param in signature.parameters.items():\n",
    "    #Iterating over parameters of a single model\n",
    "    if (name != \"self\") & (param.default != inspect.Parameter.empty):\n",
    "        knowledge[name] = {}\n",
    "        knowledge[name]['type']= type(param.default)\n",
    "        knowledge[name]['default'] = param.default"
   ]
  },
  {
   "cell_type": "code",
   "execution_count": 11,
   "metadata": {},
   "outputs": [
    {
     "data": {
      "text/plain": [
       "{'fit_intercept': {'type': bool, 'default': True},\n",
       " 'copy_X': {'type': bool, 'default': True},\n",
       " 'n_jobs': {'type': NoneType, 'default': None},\n",
       " 'positive': {'type': bool, 'default': False}}"
      ]
     },
     "execution_count": 11,
     "metadata": {},
     "output_type": "execute_result"
    }
   ],
   "source": [
    "knowledge"
   ]
  },
  {
   "cell_type": "code",
   "execution_count": 15,
   "metadata": {},
   "outputs": [],
   "source": [
    "from dataclasses import make_dataclass, field\n",
    "data_classes= {}\n",
    "ext_configs= knowledge\n",
    "\n",
    "fields = [(param, ext_configs[param]['type'], field(default=ext_configs[param]['default'])) for param in ext_configs.keys()]\n",
    "data_class = make_dataclass('LinearRegression', fields)"
   ]
  },
  {
   "cell_type": "code",
   "execution_count": 19,
   "metadata": {},
   "outputs": [
    {
     "data": {
      "text/plain": [
       "True"
      ]
     },
     "execution_count": 19,
     "metadata": {},
     "output_type": "execute_result"
    }
   ],
   "source": [
    "data_class.fit_intercept"
   ]
  },
  {
   "cell_type": "code",
   "execution_count": 6,
   "metadata": {},
   "outputs": [
    {
     "name": "stdout",
     "output_type": "stream",
     "text": [
      "LinearRegression\n"
     ]
    },
    {
     "data": {
      "text/plain": [
       "{'LinearRegression': {'fit_intercept': {'type': bool, 'default': True},\n",
       "  'copy_X': {'type': bool, 'default': True},\n",
       "  'n_jobs': {'type': NoneType, 'default': None},\n",
       "  'positive': {'type': bool, 'default': False}}}"
      ]
     },
     "execution_count": 6,
     "metadata": {},
     "output_type": "execute_result"
    }
   ],
   "source": [
    "an.get_extended_configs(['LinearRegression'])"
   ]
  },
  {
   "cell_type": "code",
   "execution_count": 8,
   "metadata": {},
   "outputs": [
    {
     "name": "stdout",
     "output_type": "stream",
     "text": [
      "LinearRegression\n"
     ]
    },
    {
     "data": {
      "text/plain": [
       "{'LinearRegression': sklearn.linear_model._base.LinearRegression}"
      ]
     },
     "execution_count": 8,
     "metadata": {},
     "output_type": "execute_result"
    }
   ],
   "source": [
    "an.get_configs(['LinearRegression'])"
   ]
  },
  {
   "cell_type": "code",
   "execution_count": 9,
   "metadata": {},
   "outputs": [
    {
     "name": "stdout",
     "output_type": "stream",
     "text": [
      "LinearRegression\n"
     ]
    }
   ],
   "source": [
    "import inspect\n",
    "knowledge= {}\n",
    "model_assignment= an.get_configs(['LinearRegression'])\n",
    "for model in model_assignment.keys():\n",
    "    knowledge[model] = {}\n",
    "    signature = inspect.signature(model_assignment[model].__init__)\n",
    "    for name, param in signature.parameters.items():\n",
    "        #Iterating over parameters of a single model\n",
    "        if (name != \"self\") & (param.default != inspect.Parameter.empty):\n",
    "            knowledge[model][name] = {}\n",
    "            knowledge[model][name]['type']= type(param.default)\n",
    "            knowledge[model][name]['default'] = param.default"
   ]
  },
  {
   "cell_type": "code",
   "execution_count": null,
   "metadata": {},
   "outputs": [],
   "source": []
  },
  {
   "cell_type": "code",
   "execution_count": null,
   "metadata": {},
   "outputs": [],
   "source": []
  },
  {
   "cell_type": "code",
   "execution_count": null,
   "metadata": {},
   "outputs": [],
   "source": []
  },
  {
   "cell_type": "code",
   "execution_count": 10,
   "metadata": {},
   "outputs": [
    {
     "data": {
      "text/plain": [
       "{'LinearRegression': {'fit_intercept': {'type': bool, 'default': True},\n",
       "  'copy_X': {'type': bool, 'default': True},\n",
       "  'n_jobs': {'type': NoneType, 'default': None},\n",
       "  'positive': {'type': bool, 'default': False}}}"
      ]
     },
     "execution_count": 10,
     "metadata": {},
     "output_type": "execute_result"
    }
   ],
   "source": [
    "knowledge"
   ]
  },
  {
   "cell_type": "code",
   "execution_count": 17,
   "metadata": {},
   "outputs": [
    {
     "name": "stdout",
     "output_type": "stream",
     "text": [
      "LinearRegression\n"
     ]
    }
   ],
   "source": [
    "\n",
    "from dataclasses import make_dataclass, field\n",
    "data_classes= {}\n",
    "ext_configs= an.get_extended_configs(['LinearRegression'])\n",
    "\n",
    "for model in ext_configs.keys():\n",
    "    fields = [(param, ext_configs[model][param]['type'], field(default=ext_configs[model][param]['default'])) for param in ext_configs[model].keys()]\n",
    "    data_classes[model] = make_dataclass(model, fields)"
   ]
  },
  {
   "cell_type": "code",
   "execution_count": 14,
   "metadata": {},
   "outputs": [
    {
     "name": "stdout",
     "output_type": "stream",
     "text": [
      "LinearRegression\n"
     ]
    },
    {
     "data": {
      "text/plain": [
       "{'LinearRegression': {'fit_intercept': {'type': bool, 'default': True},\n",
       "  'copy_X': {'type': bool, 'default': True},\n",
       "  'n_jobs': {'type': NoneType, 'default': None},\n",
       "  'positive': {'type': bool, 'default': False}}}"
      ]
     },
     "execution_count": 14,
     "metadata": {},
     "output_type": "execute_result"
    }
   ],
   "source": [
    "an.get_extended_configs(['LinearRegression'])"
   ]
  },
  {
   "cell_type": "code",
   "execution_count": null,
   "metadata": {},
   "outputs": [],
   "source": []
  }
 ],
 "metadata": {
  "kernelspec": {
   "display_name": "Regression-interactive",
   "language": "python",
   "name": "python3"
  },
  "language_info": {
   "codemirror_mode": {
    "name": "ipython",
    "version": 3
   },
   "file_extension": ".py",
   "mimetype": "text/x-python",
   "name": "python",
   "nbconvert_exporter": "python",
   "pygments_lexer": "ipython3",
   "version": "3.9.16"
  },
  "orig_nbformat": 4
 },
 "nbformat": 4,
 "nbformat_minor": 2
}
