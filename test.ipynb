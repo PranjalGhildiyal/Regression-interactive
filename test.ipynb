{
 "cells": [
  {
   "cell_type": "markdown",
   "metadata": {},
   "source": [
    "# Import "
   ]
  },
  {
   "cell_type": "code",
   "execution_count": 1,
   "metadata": {},
   "outputs": [
    {
     "name": "stderr",
     "output_type": "stream",
     "text": [
      "c:\\Users\\sizzl\\anaconda3\\envs\\Regression-interactive\\lib\\site-packages\\tqdm\\auto.py:21: TqdmWarning: IProgress not found. Please update jupyter and ipywidgets. See https://ipywidgets.readthedocs.io/en/stable/user_install.html\n",
      "  from .autonotebook import tqdm as notebook_tqdm\n"
     ]
    }
   ],
   "source": [
    "from src.Panel.ML_visualizer_Regression import Visualize_Regression"
   ]
  },
  {
   "cell_type": "markdown",
   "metadata": {},
   "source": [
    "## Import your dataframe"
   ]
  },
  {
   "cell_type": "code",
   "execution_count": 2,
   "metadata": {},
   "outputs": [],
   "source": [
    "import pandas as pd\n",
    "# data= pd.read_excel('path/to/data/xlsx')\n",
    "# data= pd.read_csv('path/to/data/csv')\n",
    "data= pd.DataFrame({'A': [1, 2, 3, 4, 3, 6, 1, 2 ,3 ,4 ,1 ],\n",
    "                    'A1': [1, 2, 3, 4, 5, 6, 7, 8, 9, 10, 11],\n",
    "                  'P': [1, 6, 5, 4, 9, 6, 1, 2 ,4 ,4 ,1 ]})"
   ]
  },
  {
   "cell_type": "code",
   "execution_count": 3,
   "metadata": {},
   "outputs": [
    {
     "name": "stderr",
     "output_type": "stream",
     "text": [
      "WARNING:param.BootstrapTemplate00156: Setting non-parameter attribute background_color=#FFFFFF using a mechanism intended only for parameters\n",
      "WARNING:param.BootstrapTemplate00156: Setting non-parameter attribute corner_radius=1 using a mechanism intended only for parameters\n"
     ]
    },
    {
     "name": "stderr",
     "output_type": "stream",
     "text": [
      "WARNING:param.BootstrapTemplate00156: Setting non-parameter attribute main_layout= using a mechanism intended only for parameters\n"
     ]
    },
    {
     "name": "stdout",
     "output_type": "stream",
     "text": [
      "Launching server at http://localhost:50083\n"
     ]
    },
    {
     "name": "stderr",
     "output_type": "stream",
     "text": [
      "c:\\Users\\sizzl\\anaconda3\\envs\\Regression-interactive\\lib\\site-packages\\_distutils_hack\\__init__.py:33: UserWarning: Setuptools is replacing distutils.\n",
      "  warnings.warn(\"Setuptools is replacing distutils.\")\n",
      "WARNING:param.main: PlotlyPlot was not imported on instantiation may not render in the served application. Ensure you add the following to the top of your application:\n",
      "\n",
      "pn.extension('plotly')\n",
      "\n"
     ]
    }
   ],
   "source": [
    "a= Visualize_Regression(data)"
   ]
  },
  {
   "cell_type": "code",
   "execution_count": null,
   "metadata": {},
   "outputs": [],
   "source": []
  }
 ],
 "metadata": {
  "kernelspec": {
   "display_name": "Regression-interactive",
   "language": "python",
   "name": "python3"
  },
  "language_info": {
   "codemirror_mode": {
    "name": "ipython",
    "version": 3
   },
   "file_extension": ".py",
   "mimetype": "text/x-python",
   "name": "python",
   "nbconvert_exporter": "python",
   "pygments_lexer": "ipython3",
   "version": "3.9.16"
  },
  "orig_nbformat": 4
 },
 "nbformat": 4,
 "nbformat_minor": 2
}
