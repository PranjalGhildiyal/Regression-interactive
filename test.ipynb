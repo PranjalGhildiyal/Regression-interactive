{
 "cells": [
  {
   "cell_type": "code",
   "execution_count": 1,
   "metadata": {},
   "outputs": [
    {
     "name": "stderr",
     "output_type": "stream",
     "text": [
      "c:\\Users\\sizzl\\anaconda3\\envs\\Regression-interactive\\lib\\site-packages\\tqdm\\auto.py:21: TqdmWarning: IProgress not found. Please update jupyter and ipywidgets. See https://ipywidgets.readthedocs.io/en/stable/user_install.html\n",
      "  from .autonotebook import tqdm as notebook_tqdm\n"
     ]
    }
   ],
   "source": [
    "from src.Panel.ML_visualizer_Regression import Visualize_Regression"
   ]
  },
  {
   "cell_type": "code",
   "execution_count": 2,
   "metadata": {},
   "outputs": [],
   "source": [
    "import pandas as pd\n",
    "data= pd.DataFrame({'A': [1, 2, 3, 4, 3, 6, 1, 2 ,3 ,4 ,1 ],\n",
    "                    'A1': [1, 2, 3, 4, 5, 6, 7, 8, 9, 10, 11],\n",
    "                  'P': [1, 6, 5, 4, 9, 6, 1, 2 ,4 ,4 ,1 ]})"
   ]
  },
  {
   "cell_type": "code",
   "execution_count": 3,
   "metadata": {},
   "outputs": [],
   "source": [
    "data= pd.read_csv('test_data.csv')"
   ]
  },
  {
   "cell_type": "code",
   "execution_count": 3,
   "metadata": {},
   "outputs": [
    {
     "data": {
      "text/plain": [
       "<Popen: returncode: None args: ['mlflow', 'ui']>"
      ]
     },
     "execution_count": 3,
     "metadata": {},
     "output_type": "execute_result"
    }
   ],
   "source": [
    "import subprocess\n",
    "subprocess.Popen([\"mlflow\", \"ui\"])"
   ]
  },
  {
   "cell_type": "code",
   "execution_count": 3,
   "metadata": {},
   "outputs": [
    {
     "name": "stderr",
     "output_type": "stream",
     "text": [
      "WARNING:param.BootstrapTemplate00156: Setting non-parameter attribute background_color=#FFFFFF using a mechanism intended only for parameters\n",
      "WARNING:param.BootstrapTemplate00156: Setting non-parameter attribute corner_radius=1 using a mechanism intended only for parameters\n"
     ]
    },
    {
     "name": "stderr",
     "output_type": "stream",
     "text": [
      "WARNING:param.BootstrapTemplate00156: Setting non-parameter attribute main_layout= using a mechanism intended only for parameters\n"
     ]
    },
    {
     "name": "stdout",
     "output_type": "stream",
     "text": [
      "Launching server at http://localhost:59739\n"
     ]
    },
    {
     "name": "stdout",
     "output_type": "stream",
     "text": [
      "model info created successfully!\n",
      "model info created successfully!\n"
     ]
    },
    {
     "ename": "",
     "evalue": "",
     "output_type": "error",
     "traceback": [
      "\u001b[1;31mThe Kernel crashed while executing code in the the current cell or a previous cell. Please review the code in the cell(s) to identify a possible cause of the failure. Click <a href='https://aka.ms/vscodeJupyterKernelCrash'>here</a> for more info. View Jupyter <a href='command:jupyter.viewOutput'>log</a> for further details."
     ]
    }
   ],
   "source": [
    "a= Visualize_Regression(data)"
   ]
  },
  {
   "cell_type": "code",
   "execution_count": 4,
   "metadata": {},
   "outputs": [],
   "source": [
    "from sklearn.ensemble import VotingRegressor"
   ]
  },
  {
   "cell_type": "code",
   "execution_count": 5,
   "metadata": {},
   "outputs": [
    {
     "ename": "TypeError",
     "evalue": "__init__() missing 1 required positional argument: 'estimators'",
     "output_type": "error",
     "traceback": [
      "\u001b[1;31m---------------------------------------------------------------------------\u001b[0m",
      "\u001b[1;31mTypeError\u001b[0m                                 Traceback (most recent call last)",
      "Cell \u001b[1;32mIn[5], line 1\u001b[0m\n\u001b[1;32m----> 1\u001b[0m VotingRegressor()\n",
      "\u001b[1;31mTypeError\u001b[0m: __init__() missing 1 required positional argument: 'estimators'"
     ]
    },
    {
     "name": "stdout",
     "output_type": "stream",
     "text": [
      "2023-08-27 09:39:32,008 ERROR: panel.reactive - Callback failed for object named \"Select Regression Model\" changing property {'value': 'StackingRegressor'} \n",
      "Traceback (most recent call last):\n",
      "  File \"c:\\Users\\sizzl\\anaconda3\\envs\\Regression-interactive\\lib\\site-packages\\panel\\reactive.py\", line 384, in _process_events\n",
      "    self.param.update(**self_events)\n",
      "  File \"c:\\Users\\sizzl\\anaconda3\\envs\\Regression-interactive\\lib\\site-packages\\param\\parameterized.py\", line 1902, in update\n",
      "    self_._batch_call_watchers()\n",
      "  File \"c:\\Users\\sizzl\\anaconda3\\envs\\Regression-interactive\\lib\\site-packages\\param\\parameterized.py\", line 2063, in _batch_call_watchers\n",
      "    self_._execute_watcher(watcher, events)\n",
      "  File \"c:\\Users\\sizzl\\anaconda3\\envs\\Regression-interactive\\lib\\site-packages\\param\\parameterized.py\", line 2025, in _execute_watcher\n",
      "    watcher.fn(*args, **kwargs)\n",
      "  File \"c:\\Users\\sizzl\\OneDrive - Algo8.ai\\Desktop (2)\\one-thing\\Regression-interactive\\src\\Panel\\ML_visualizer_Regression.py\", line 79, in create_new_tab\n",
      "    self.model_info[self.tab_num] = self.model_specifics[self.tab_num].hyperparameters\n",
      "  File \"c:\\Users\\sizzl\\OneDrive - Algo8.ai\\Desktop (2)\\one-thing\\Regression-interactive\\config\\model_types.py\", line 140, in hyperparameters\n",
      "    params= self.model().get_params()\n",
      "TypeError: __init__() missing 1 required positional argument: 'estimators'\n"
     ]
    },
    {
     "ename": "",
     "evalue": "",
     "output_type": "error",
     "traceback": [
      "\u001b[1;31mThe Kernel crashed while executing code in the the current cell or a previous cell. Please review the code in the cell(s) to identify a possible cause of the failure. Click <a href='https://aka.ms/vscodeJupyterKernelCrash'>here</a> for more info. View Jupyter <a href='command:jupyter.viewOutput'>log</a> for further details."
     ]
    }
   ],
   "source": [
    "VotingRegressor()"
   ]
  },
  {
   "cell_type": "code",
   "execution_count": null,
   "metadata": {},
   "outputs": [],
   "source": [
    "a.model_info.keys()"
   ]
  },
  {
   "cell_type": "code",
   "execution_count": 4,
   "metadata": {},
   "outputs": [
    {
     "name": "stdout",
     "output_type": "stream",
     "text": [
      "Object `panel.widgets.button` not found.\n"
     ]
    }
   ],
   "source": [
    "from panel.widgets.button?"
   ]
  },
  {
   "cell_type": "code",
   "execution_count": 34,
   "metadata": {},
   "outputs": [
    {
     "name": "stdout",
     "output_type": "stream",
     "text": [
      "Launching server at http://localhost:49701\n"
     ]
    },
    {
     "data": {
      "text/plain": [
       "<panel.io.server.Server at 0x1c77e2be7c0>"
      ]
     },
     "execution_count": 34,
     "metadata": {},
     "output_type": "execute_result"
    }
   ],
   "source": [
    "import panel as pn\n",
    "\n",
    "stylesheet = \"\"\"\n",
    ":host {\n",
    "  --handle-width: 15px;\n",
    "  --handle-height: 25px;\n",
    "  --slider-size: 25px;\n",
    "  --color: black;\n",
    "  --background: black;\n",
    "}\n",
    "\"\"\"\n",
    "pn.serve(pn.widgets.Button(name= 'Github', icon='robot', stylesheets=[stylesheet]))"
   ]
  },
  {
   "cell_type": "code",
   "execution_count": 21,
   "metadata": {},
   "outputs": [
    {
     "name": "stderr",
     "output_type": "stream",
     "text": [
      "WARNING:param.YES: Displaying Panel objects in the notebook requires the panel extension to be loaded. Ensure you run pn.extension() before displaying objects in the notebook.\n",
      "WARNING:param.YES:Displaying Panel objects in the notebook requires the panel extension to be loaded. Ensure you run pn.extension() before displaying objects in the notebook.\n"
     ]
    },
    {
     "data": {
      "text/plain": [
       "Button(icon='progress', name='YES', styles={'background-color': 'blac...})"
      ]
     },
     "execution_count": 21,
     "metadata": {},
     "output_type": "execute_result"
    }
   ],
   "source": [
    "pn.widgets.Button(name= 'YES', icon='progress', styles={'background-color': 'black', 'color': 'black'})"
   ]
  },
  {
   "cell_type": "code",
   "execution_count": 17,
   "metadata": {},
   "outputs": [
    {
     "name": "stdout",
     "output_type": "stream",
     "text": [
      "\u001b[1;31mInit signature:\u001b[0m \u001b[0mpn\u001b[0m\u001b[1;33m.\u001b[0m\u001b[0mwidgets\u001b[0m\u001b[1;33m.\u001b[0m\u001b[0mButton\u001b[0m\u001b[1;33m(\u001b[0m\u001b[1;33m**\u001b[0m\u001b[0mparams\u001b[0m\u001b[1;33m)\u001b[0m\u001b[1;33m\u001b[0m\u001b[1;33m\u001b[0m\u001b[0m\n",
      "\u001b[1;31mDocstring:\u001b[0m     \n",
      "params(clicks=Integer, value=Event, button_style=ObjectSelector, button_type=ObjectSelector, icon=String, icon_size=String, disabled=Boolean, loading=Boolean, align=Align, aspect_ratio=Aspect, background=Parameter, css_classes=List, design=ObjectSelector, height=Integer, height_policy=ObjectSelector, margin=Margin, max_height=Integer, max_width=Integer, min_height=Integer, min_width=Integer, sizing_mode=ObjectSelector, styles=Dict, stylesheets=List, tags=List, visible=Boolean, width=Integer, width_policy=ObjectSelector, name=String)\n",
      "\n",
      "    The `Button` widget allows triggering events when the button is\n",
      "    clicked.\n",
      "\n",
      "    The Button provides a `value` parameter, which will toggle from\n",
      "    `False` to `True` while the click event is being processed\n",
      "\n",
      "    It also provides an additional `clicks` parameter, that can be\n",
      "    watched to subscribe to click events.\n",
      "\n",
      "    Reference: https://panel.holoviz.org/reference/widgets/Button.html#widgets-gallery-button\n",
      "\n",
      "    :Example:\n",
      "\n",
      "    >>> pn.widgets.Button(name='Click me', icon='caret-right', button_type='primary')\n",
      "    \n",
      "\u001b[1;32mParameters of 'Button'\n",
      "======================\n",
      "\u001b[0m\n",
      "\u001b[1;31mParameters changed from their default values are marked in red.\u001b[0m\n",
      "\u001b[1;36mSoft bound values are marked in cyan.\u001b[0m\n",
      "C/V= Constant/Variable, RO/RW = ReadOnly/ReadWrite, AN=Allow None\n",
      "\n",
      "\u001b[1;34mName              Value         Type         Bounds     Mode  \u001b[0m\n",
      "\n",
      "align            'start'       Align                    V RW  \n",
      "aspect_ratio       None        Aspect                 V RW AN \n",
      "background         None      Parameter                V RW AN \n",
      "css_classes         []          List       (0, None)    V RW  \n",
      "design             None    ObjectSelector               V RW  \n",
      "height             None       Integer      (0, None)  V RW AN \n",
      "min_width          None       Integer      (0, None)  V RW AN \n",
      "min_height         None       Integer      (0, None)  V RW AN \n",
      "max_width          None       Integer      (0, None)  V RW AN \n",
      "max_height         None       Integer      (0, None)  V RW AN \n",
      "margin           (5, 10)       Margin                 V RW AN \n",
      "styles              {}          Dict                    V RW  \n",
      "stylesheets         []          List       (0, None)    V RW  \n",
      "tags                []          List       (0, None)    V RW  \n",
      "width              None       Integer      (0, None)  V RW AN \n",
      "width_policy      'auto'   ObjectSelector               V RW  \n",
      "height_policy     'auto'   ObjectSelector               V RW  \n",
      "sizing_mode        None    ObjectSelector               V RW  \n",
      "visible            True       Boolean        (0, 1)     V RW  \n",
      "loading           False       Boolean        (0, 1)     V RW  \n",
      "disabled          False       Boolean        (0, 1)     V RW  \n",
      "icon               None        String                 V RW AN \n",
      "icon_size         '1em'        String                   V RW  \n",
      "button_type     'default'  ObjectSelector               V RW  \n",
      "button_style     'solid'   ObjectSelector               V RW  \n",
      "clicks              0         Integer                   V RW  \n",
      "value             False        Event         (0, 1)     V RW  \n",
      "\n",
      "\u001b[1;32mParameter docstrings:\n",
      "=====================\u001b[0m\n",
      "\n",
      "\u001b[1;34malign:         Whether the object should be aligned with the start, end or\u001b[0m\n",
      "\u001b[1;34m               center of its container. If set as a tuple it will declare\u001b[0m\n",
      "\u001b[1;34m               (vertical, horizontal) alignment.\u001b[0m\n",
      "\u001b[1;31maspect_ratio:  Describes the proportional relationship between component's\u001b[0m\n",
      "\u001b[1;31m               width and height.  This works if any of component's dimensions\u001b[0m\n",
      "\u001b[1;31m               are flexible in size. If set to a number, ``width / height =\u001b[0m\n",
      "\u001b[1;31m               aspect_ratio`` relationship will be maintained.  Otherwise, if\u001b[0m\n",
      "\u001b[1;31m               set to ``\"auto\"``, component's preferred width and height will\u001b[0m\n",
      "\u001b[1;31m               be used to determine the aspect (if not set, no aspect will be\u001b[0m\n",
      "\u001b[1;31m               preserved).\u001b[0m\n",
      "\u001b[1;34mbackground:    Background color of the component.\u001b[0m\n",
      "\u001b[1;31mcss_classes:   CSS classes to apply to the layout.\u001b[0m\n",
      "\u001b[1;34mdesign:        The design system to use to style components.\u001b[0m\n",
      "\u001b[1;31mheight:        The height of the component (in pixels).  This can be either\u001b[0m\n",
      "\u001b[1;31m               fixed or preferred height, depending on height sizing policy.\u001b[0m\n",
      "\u001b[1;34mmin_width:     Minimal width of the component (in pixels) if width is adjustable.\u001b[0m\n",
      "\u001b[1;31mmin_height:    Minimal height of the component (in pixels) if height is adjustable.\u001b[0m\n",
      "\u001b[1;34mmax_width:     Minimal width of the component (in pixels) if width is adjustable.\u001b[0m\n",
      "\u001b[1;31mmax_height:    Minimal height of the component (in pixels) if height is adjustable.\u001b[0m\n",
      "\u001b[1;34mmargin:        Allows to create additional space around the component. May\u001b[0m\n",
      "\u001b[1;34m               be specified as a two-tuple of the form (vertical, horizontal)\u001b[0m\n",
      "\u001b[1;34m               or a four-tuple (top, right, bottom, left).\u001b[0m\n",
      "\u001b[1;31mstyles:        Dictionary of CSS rules to apply to DOM node wrapping the\u001b[0m\n",
      "\u001b[1;31m               component.\u001b[0m\n",
      "\u001b[1;34mstylesheets:   List of stylesheets defined as URLs pointing to .css files\u001b[0m\n",
      "\u001b[1;34m               or raw CSS defined as a string.\u001b[0m\n",
      "\u001b[1;31mtags:          List of arbitrary tags to add to the component.\u001b[0m\n",
      "\u001b[1;31m               Can be useful for templating or for storing metadata on\u001b[0m\n",
      "\u001b[1;31m               the model.\u001b[0m\n",
      "\u001b[1;34mwidth:         The width of the component (in pixels). This can be either\u001b[0m\n",
      "\u001b[1;34m               fixed or preferred width, depending on width sizing policy.\u001b[0m\n",
      "\u001b[1;31mwidth_policy:  Describes how the component should maintain its width.\u001b[0m\n",
      "\u001b[1;31m               \u001b[0m\n",
      "\u001b[1;31m               ``\"auto\"``\u001b[0m\n",
      "\u001b[1;31m                   Use component's preferred sizing policy.\u001b[0m\n",
      "\u001b[1;31m               \u001b[0m\n",
      "\u001b[1;31m               ``\"fixed\"``\u001b[0m\n",
      "\u001b[1;31m                   Use exactly ``width`` pixels. Component will overflow if\u001b[0m\n",
      "\u001b[1;31m                   it can't fit in the available horizontal space.\u001b[0m\n",
      "\u001b[1;31m               \u001b[0m\n",
      "\u001b[1;31m               ``\"fit\"``\u001b[0m\n",
      "\u001b[1;31m                   Use component's preferred width (if set) and allow it to\u001b[0m\n",
      "\u001b[1;31m                   fit into the available horizontal space within the minimum\u001b[0m\n",
      "\u001b[1;31m                   and maximum width bounds (if set). Component's width\u001b[0m\n",
      "\u001b[1;31m                   neither will be aggressively minimized nor maximized.\u001b[0m\n",
      "\u001b[1;31m               \u001b[0m\n",
      "\u001b[1;31m               ``\"min\"``\u001b[0m\n",
      "\u001b[1;31m                   Use as little horizontal space as possible, not less than\u001b[0m\n",
      "\u001b[1;31m                   the minimum width (if set).  The starting point is the\u001b[0m\n",
      "\u001b[1;31m                   preferred width (if set). The width of the component may\u001b[0m\n",
      "\u001b[1;31m                   shrink or grow depending on the parent layout, aspect\u001b[0m\n",
      "\u001b[1;31m                   management and other factors.\u001b[0m\n",
      "\u001b[1;31m               \u001b[0m\n",
      "\u001b[1;31m               ``\"max\"``\u001b[0m\n",
      "\u001b[1;31m                   Use as much horizontal space as possible, not more than\u001b[0m\n",
      "\u001b[1;31m                   the maximum width (if set).  The starting point is the\u001b[0m\n",
      "\u001b[1;31m                   preferred width (if set). The width of the component may\u001b[0m\n",
      "\u001b[1;31m                   shrink or grow depending on the parent layout, aspect\u001b[0m\n",
      "\u001b[1;31m                   management and other factors.\u001b[0m\n",
      "\u001b[1;34mheight_policy: Describes how the component should maintain its height.\u001b[0m\n",
      "\u001b[1;34m               \u001b[0m\n",
      "\u001b[1;34m               ``\"auto\"``\u001b[0m\n",
      "\u001b[1;34m                   Use component's preferred sizing policy.\u001b[0m\n",
      "\u001b[1;34m               \u001b[0m\n",
      "\u001b[1;34m               ``\"fixed\"``\u001b[0m\n",
      "\u001b[1;34m                   Use exactly ``height`` pixels. Component will overflow if\u001b[0m\n",
      "\u001b[1;34m                   it can't fit in the available vertical space.\u001b[0m\n",
      "\u001b[1;34m               \u001b[0m\n",
      "\u001b[1;34m               ``\"fit\"``\u001b[0m\n",
      "\u001b[1;34m                   Use component's preferred height (if set) and allow to fit\u001b[0m\n",
      "\u001b[1;34m                   into the available vertical space within the minimum and\u001b[0m\n",
      "\u001b[1;34m                   maximum height bounds (if set). Component's height neither\u001b[0m\n",
      "\u001b[1;34m                   will be aggressively minimized nor maximized.\u001b[0m\n",
      "\u001b[1;34m               \u001b[0m\n",
      "\u001b[1;34m               ``\"min\"``\u001b[0m\n",
      "\u001b[1;34m                   Use as little vertical space as possible, not less than\u001b[0m\n",
      "\u001b[1;34m                   the minimum height (if set).  The starting point is the\u001b[0m\n",
      "\u001b[1;34m                   preferred height (if set). The height of the component may\u001b[0m\n",
      "\u001b[1;34m                   shrink or grow depending on the parent layout, aspect\u001b[0m\n",
      "\u001b[1;34m                   management and other factors.\u001b[0m\n",
      "\u001b[1;34m               \u001b[0m\n",
      "\u001b[1;34m               ``\"max\"``\u001b[0m\n",
      "\u001b[1;34m                   Use as much vertical space as possible, not more than the\u001b[0m\n",
      "\u001b[1;34m                   maximum height (if set).  The starting point is the\u001b[0m\n",
      "\u001b[1;34m                   preferred height (if set). The height of the component may\u001b[0m\n",
      "\u001b[1;34m                   shrink or grow depending on the parent layout, aspect\u001b[0m\n",
      "\u001b[1;34m                   management and other factors.\u001b[0m\n",
      "\u001b[1;31msizing_mode:   How the component should size itself.\u001b[0m\n",
      "\u001b[1;31m               \u001b[0m\n",
      "\u001b[1;31m               This is a high-level setting for maintaining width and height\u001b[0m\n",
      "\u001b[1;31m               of the component. To gain more fine grained control over\u001b[0m\n",
      "\u001b[1;31m               sizing, use ``width_policy``, ``height_policy`` and\u001b[0m\n",
      "\u001b[1;31m               ``aspect_ratio`` instead (those take precedence over\u001b[0m\n",
      "\u001b[1;31m               ``sizing_mode``).\u001b[0m\n",
      "\u001b[1;31m               \u001b[0m\n",
      "\u001b[1;31m               ``\"fixed\"``\u001b[0m\n",
      "\u001b[1;31m                   Component is not responsive. It will retain its original\u001b[0m\n",
      "\u001b[1;31m                   width and height regardless of any subsequent browser\u001b[0m\n",
      "\u001b[1;31m                   window resize events.\u001b[0m\n",
      "\u001b[1;31m               \u001b[0m\n",
      "\u001b[1;31m               ``\"stretch_width\"``\u001b[0m\n",
      "\u001b[1;31m                   Component will responsively resize to stretch to the\u001b[0m\n",
      "\u001b[1;31m                   available width, without maintaining any aspect ratio. The\u001b[0m\n",
      "\u001b[1;31m                   height of the component depends on the type of the\u001b[0m\n",
      "\u001b[1;31m                   component and may be fixed or fit to component's contents.\u001b[0m\n",
      "\u001b[1;31m               \u001b[0m\n",
      "\u001b[1;31m               ``\"stretch_height\"``\u001b[0m\n",
      "\u001b[1;31m                   Component will responsively resize to stretch to the\u001b[0m\n",
      "\u001b[1;31m                   available height, without maintaining any aspect\u001b[0m\n",
      "\u001b[1;31m                   ratio. The width of the component depends on the type of\u001b[0m\n",
      "\u001b[1;31m                   the component and may be fixed or fit to component's\u001b[0m\n",
      "\u001b[1;31m                   contents.\u001b[0m\n",
      "\u001b[1;31m               \u001b[0m\n",
      "\u001b[1;31m               ``\"stretch_both\"``\u001b[0m\n",
      "\u001b[1;31m                   Component is completely responsive, independently in width\u001b[0m\n",
      "\u001b[1;31m                   and height, and will occupy all the available horizontal\u001b[0m\n",
      "\u001b[1;31m                   and vertical space, even if this changes the aspect ratio\u001b[0m\n",
      "\u001b[1;31m                   of the component.\u001b[0m\n",
      "\u001b[1;31m               \u001b[0m\n",
      "\u001b[1;31m               ``\"scale_width\"``\u001b[0m\n",
      "\u001b[1;31m                   Component will responsively resize to stretch to the\u001b[0m\n",
      "\u001b[1;31m                   available width, while maintaining the original or\u001b[0m\n",
      "\u001b[1;31m                   provided aspect ratio.\u001b[0m\n",
      "\u001b[1;31m               \u001b[0m\n",
      "\u001b[1;31m               ``\"scale_height\"``\u001b[0m\n",
      "\u001b[1;31m                   Component will responsively resize to stretch to the\u001b[0m\n",
      "\u001b[1;31m                   available height, while maintaining the original or\u001b[0m\n",
      "\u001b[1;31m                   provided aspect ratio.\u001b[0m\n",
      "\u001b[1;31m               \u001b[0m\n",
      "\u001b[1;31m               ``\"scale_both\"``\u001b[0m\n",
      "\u001b[1;31m                   Component will responsively resize to both the available\u001b[0m\n",
      "\u001b[1;31m                   width and height, while maintaining the original or\u001b[0m\n",
      "\u001b[1;31m                   provided aspect ratio.\u001b[0m\n",
      "\u001b[1;34mvisible:       Whether the component is visible. Setting visible to false will\u001b[0m\n",
      "\u001b[1;34m               hide the component entirely.\u001b[0m\n",
      "\u001b[1;31mloading:       Whether or not the Viewable is loading. If True a loading spinner\u001b[0m\n",
      "\u001b[1;31m               is shown on top of the Viewable.\u001b[0m\n",
      "\u001b[1;34mdisabled:      Whether the widget is disabled.\u001b[0m\n",
      "\u001b[1;31micon:          An icon to render to the left of the button label. Either an SVG or an\u001b[0m\n",
      "\u001b[1;31m               icon name which is loaded from https://tabler-icons.io.\u001b[0m\n",
      "\u001b[1;34micon_size:     Size of the icon as a string, e.g. 12px or 1em.\u001b[0m\n",
      "\u001b[1;31mbutton_type:   A button theme; should be one of 'default' (white), 'primary'\u001b[0m\n",
      "\u001b[1;31m               (blue), 'success' (green), 'info' (yellow), 'light' (light),\u001b[0m\n",
      "\u001b[1;31m               or 'danger' (red).\u001b[0m\n",
      "\u001b[1;34mbutton_style:  A button style to switch between 'solid', 'outline'.\u001b[0m\n",
      "\u001b[1;31mclicks:        Number of clicks (can be listened to)\u001b[0m\n",
      "\u001b[1;34mvalue:         Toggles from False to True while the event is being processed.\u001b[0m\n",
      "\u001b[1;31mFile:\u001b[0m           c:\\users\\sizzl\\anaconda3\\envs\\regression-interactive\\lib\\site-packages\\panel\\widgets\\button.py\n",
      "\u001b[1;31mType:\u001b[0m           ParameterizedMetaclass\n",
      "\u001b[1;31mSubclasses:\u001b[0m     "
     ]
    }
   ],
   "source": [
    "pn.widgets.Button?"
   ]
  },
  {
   "cell_type": "code",
   "execution_count": 4,
   "metadata": {},
   "outputs": [
    {
     "data": {
      "text/plain": [
       "0.5000000000000003"
      ]
     },
     "execution_count": 4,
     "metadata": {},
     "output_type": "execute_result"
    }
   ],
   "source": [
    "a.band_error[0]"
   ]
  },
  {
   "cell_type": "code",
   "execution_count": 6,
   "metadata": {},
   "outputs": [
    {
     "name": "stdout",
     "output_type": "stream",
     "text": [
      "Launching server at http://localhost:65319\n"
     ]
    },
    {
     "data": {
      "text/plain": [
       "<panel.io.server.Server at 0x1e43594e6d0>"
      ]
     },
     "execution_count": 6,
     "metadata": {},
     "output_type": "execute_result"
    }
   ],
   "source": [
    "import panel as pn\n",
    "pn.serve(pn.widgets.Button(name='AAA', button_type='primary', sizing_mode= 'stretch_width', button_style='outline'))"
   ]
  },
  {
   "cell_type": "code",
   "execution_count": 5,
   "metadata": {},
   "outputs": [
    {
     "data": {
      "text/plain": [
       "'pranjal'"
      ]
     },
     "execution_count": 5,
     "metadata": {},
     "output_type": "execute_result"
    }
   ],
   "source": [
    "'Pranjal'.lower()"
   ]
  },
  {
   "cell_type": "code",
   "execution_count": 7,
   "metadata": {},
   "outputs": [
    {
     "name": "stderr",
     "output_type": "stream",
     "text": [
      "WARNING:param.Row00386: Displaying Panel objects in the notebook requires the panel extension to be loaded. Ensure you run pn.extension() before displaying objects in the notebook.\n"
     ]
    },
    {
     "data": {
      "text/plain": [
       "Row(sizing_mode='stretch_width')\n",
       "    [0] Column(max_width=350)\n",
       "        [0] Column(sizing_mode='stretch_width', styles={'background': '...})\n",
       "            [0] Markdown(str)\n",
       "            [1] EditableRangeSlider(name='Range Slider', step=0.01, value=(0.6, 0.8), width=300)\n",
       "            [2] FloatInput(end=100, name='Random State f..., start=0, step=1)\n",
       "        [1] WidgetBox(sizing_mode='stretch_width')\n",
       "            [0] Markdown(str)\n",
       "            [1] IntInput(end=10, name='Parallel Jobs', start=0)\n",
       "            [2] IntInput(end=10, name='Splits', start=0)\n",
       "            [3] IntInput(end=15, name='Repeats', start=0)\n",
       "            [4] IntInput(end=10, name='Random State', start=0)\n",
       "            [5] Select(options=['explained_variance_score...], value='neg_mean_absolute_percent...)\n",
       "            [6] IntInput(end=1000, name='No of Trials', start=0, value=100)\n",
       "        [2] TextInput(name='fit_intercept', placeholder='comma separated v..., sizing_mode='stretch_width')\n",
       "        [3] TextInput(name='copy_X', placeholder='comma separated v..., sizing_mode='stretch_width')\n",
       "        [4] TextInput(name='n_jobs', placeholder='comma separated v..., sizing_mode='stretch_width')\n",
       "        [5] TextInput(name='positive', placeholder='comma separated v..., sizing_mode='stretch_width')\n",
       "        [6] Button(button_type='primary', name='Optimize')\n",
       "    [1] GridSpec(ncols=0, nrows=0)"
      ]
     },
     "execution_count": 7,
     "metadata": {},
     "output_type": "execute_result"
    }
   ],
   "source": [
    "a.tab_model_type[1]"
   ]
  },
  {
   "cell_type": "code",
   "execution_count": null,
   "metadata": {},
   "outputs": [
    {
     "name": "stdout",
     "output_type": "stream",
     "text": [
      "Index(['A', 'A1', 'P'], dtype='object')\n",
      "For Train\n",
      "r2_score: 1.0\n",
      "mse:1.1093356479670479e-30\n",
      "rmse:1.0532500405730103e-15\n",
      "mape:4.070817756958907e-16\n",
      "mae:7.771561172376096e-16\n",
      "For Validation\n",
      "r2_score: -1.126865671641791\n",
      "mse:11.4\n",
      "rmse:3.3763886032268267\n",
      "mape:0.39666666666666667\n",
      "mae:2.6\n",
      "For Test\n",
      "r2_score: 1.0\n",
      "mse:1.67632942359465e-30\n",
      "rmse:1.2947314098277875e-15\n",
      "mape:9.43689570931383e-16\n",
      "mae:1.1102230246251565e-15\n"
     ]
    },
    {
     "name": "stderr",
     "output_type": "stream",
     "text": [
      "WARNING:param.Column02922: Setting non-parameter attribute scrollable=True using a mechanism intended only for parameters\n",
      "WARNING:param.Column03018: Setting non-parameter attribute scrollable=True using a mechanism intended only for parameters\n",
      "WARNING:param.Column03133: Setting non-parameter attribute scrollable=True using a mechanism intended only for parameters\n"
     ]
    },
    {
     "name": "stdout",
     "output_type": "stream",
     "text": [
      "For Process\n",
      "r2_score: 1.0\n",
      "mse:1.1093356479670479e-30\n",
      "rmse:1.0532500405730103e-15\n",
      "mape:4.070817756958907e-16\n",
      "mae:7.771561172376096e-16\n",
      "For Process\n",
      "r2_score: -1.126865671641791\n",
      "mse:11.4\n",
      "rmse:3.3763886032268267\n",
      "mape:0.39666666666666667\n",
      "mae:2.6\n",
      "For Process\n",
      "r2_score: 1.0\n",
      "mse:1.67632942359465e-30\n",
      "rmse:1.2947314098277875e-15\n",
      "mape:9.43689570931383e-16\n",
      "mae:1.1102230246251565e-15\n"
     ]
    }
   ],
   "source": [
    "a.plotly_simple[0]= a.gridspecs[0]"
   ]
  },
  {
   "cell_type": "code",
   "execution_count": null,
   "metadata": {},
   "outputs": [],
   "source": []
  },
  {
   "cell_type": "code",
   "execution_count": 13,
   "metadata": {},
   "outputs": [
    {
     "name": "stdout",
     "output_type": "stream",
     "text": [
      "Launching server at http://localhost:50652\n"
     ]
    },
    {
     "data": {
      "text/plain": [
       "<panel.io.server.Server at 0x25a5772a340>"
      ]
     },
     "execution_count": 13,
     "metadata": {},
     "output_type": "execute_result"
    }
   ],
   "source": [
    "import panel as pn\n",
    "pn.serve(a.plotly_simple[0])"
   ]
  },
  {
   "cell_type": "code",
   "execution_count": 9,
   "metadata": {},
   "outputs": [
    {
     "name": "stdout",
     "output_type": "stream",
     "text": [
      "Launching server at http://localhost:50581\n"
     ]
    },
    {
     "data": {
      "text/plain": [
       "<panel.io.server.Server at 0x25a57666430>"
      ]
     },
     "execution_count": 9,
     "metadata": {},
     "output_type": "execute_result"
    }
   ],
   "source": [
    "import panel as pn\n",
    "\n",
    "def replace_callback(event):\n",
    "    column_layout[1] = grid_spec2\n",
    "\n",
    "# Create two different GridSpecs\n",
    "grid_spec1 = pn.GridSpec(width=500, height=500)\n",
    "grid_spec1[0, 0] = pn.widgets.Button(name=\"Button 1\")\n",
    "grid_spec1[0, 1] = pn.widgets.Button(name=\"Button 1\")\n",
    "\n",
    "grid_spec2 = pn.GridSpec(width=500, height=500)\n",
    "grid_spec2[0, 0] = pn.widgets.TextInput(name=\"Text Input\")\n",
    "grid_spec2[0, 1] = pn.widgets.TextInput(name=\"Text Input\")\n",
    "\n",
    "# Create a Button to trigger the replacement\n",
    "replace_button = pn.widgets.Button(name=\"Replace GridSpec\")\n",
    "replace_button.on_click(replace_callback)\n",
    "\n",
    "# Create a Column layout to hold the components\n",
    "column_layout = pn.Column(replace_button, grid_spec1)\n",
    "\n",
    "# Show the layout\n",
    "pn.serve(column_layout)\n",
    "\n",
    "\n",
    "\n",
    "\n",
    "\n"
   ]
  },
  {
   "cell_type": "code",
   "execution_count": 6,
   "metadata": {},
   "outputs": [
    {
     "name": "stderr",
     "output_type": "stream",
     "text": [
      "WARNING:param.GridSpec00471: Displaying Panel objects in the notebook requires the panel extension to be loaded. Ensure you run pn.extension() before displaying objects in the notebook.\n"
     ]
    },
    {
     "data": {
      "text/plain": [
       "GridSpec(height=800, ncols=6, nrows=3)\n",
       "    [0] Plotly(Figure, height=266, relayout_data={'autosize': True}, viewport={'xaxis.range': [-0.264576...})\n",
       "    [1] Column(height=266)\n",
       "        [0] Number(name='R2 score', value=0.9770309477756286)\n",
       "        [1] Number(name='MSE', value=0.08636363636363634)\n",
       "        [2] Number(name='RMSE', value=0.2938769068226293)\n",
       "        [3] Number(name='MAPE', value=0.15075757575757587)\n",
       "        [4] Number(name='MAE', value=0.24545454545454573)\n",
       "    [2] Plotly(Figure, height=266, relayout_data={'autosize': True}, viewport={'xaxis.range': [-0.198432...})\n",
       "    [3] Column(height=266)\n",
       "        [0] Number(name='R2 score', value=-1.218884297520661)\n",
       "        [1] Number(name='MSE', value=13.86802685950413)\n",
       "        [2] Number(name='RMSE', value=3.7239799757120244)\n",
       "        [3] Number(name='MAPE', value=0.49842171717171724)\n",
       "        [4] Number(name='MAE', value=3.125)\n",
       "    [4] Plotly(Figure, height=266, relayout_data={'autosize': True}, viewport={'xaxis.range': [-0.066144...})\n",
       "    [5] Column(height=266)\n",
       "        [0] Number(name='R2 score', value=0.7528696051423319)\n",
       "        [1] Number(name='MSE', value=0.5560433884297531)\n",
       "        [2] Number(name='RMSE', value=0.7456831689328606)\n",
       "        [3] Number(name='MAPE', value=0.5000000000000003)\n",
       "        [4] Number(name='MAE', value=0.7386363636363644)"
      ]
     },
     "execution_count": 6,
     "metadata": {},
     "output_type": "execute_result"
    }
   ],
   "source": [
    "a.plotly_simple[0]"
   ]
  },
  {
   "cell_type": "code",
   "execution_count": null,
   "metadata": {},
   "outputs": [
    {
     "name": "stdout",
     "output_type": "stream",
     "text": [
      "Yes\n"
     ]
    }
   ],
   "source": [
    "train= None\n",
    "test=None\n",
    "validation= 'P'\n",
    "\n",
    "\n",
    "if ((train is None) | (test is None) | (validation is None)):\n",
    "        print('Yes')\n",
    "else:\n",
    "    print('No')"
   ]
  },
  {
   "cell_type": "code",
   "execution_count": null,
   "metadata": {},
   "outputs": [],
   "source": []
  },
  {
   "cell_type": "code",
   "execution_count": null,
   "metadata": {},
   "outputs": [],
   "source": [
    "RegressionModelAssignment"
   ]
  },
  {
   "cell_type": "code",
   "execution_count": null,
   "metadata": {},
   "outputs": [],
   "source": [
    "from dataclasses import dataclass"
   ]
  },
  {
   "cell_type": "code",
   "execution_count": null,
   "metadata": {},
   "outputs": [],
   "source": [
    "from config.model_types import ModelArchive"
   ]
  },
  {
   "cell_type": "code",
   "execution_count": null,
   "metadata": {},
   "outputs": [],
   "source": [
    "from config.model_types import ModelArchive\n",
    "\n",
    "@dataclass\n",
    "class ModelAssignment:\n",
    "    model_type:str\n",
    "\n",
    "    @property\n",
    "    def model(self):\n",
    "        return ModelArchive().regression[self.model_type]\n",
    "    \n",
    "    @property\n",
    "    def dataclass(self):\n",
    "        return ModelArchive().regression"
   ]
  },
  {
   "cell_type": "code",
   "execution_count": null,
   "metadata": {},
   "outputs": [],
   "source": [
    "a= ModelAssignment('LinearRegression')"
   ]
  },
  {
   "cell_type": "code",
   "execution_count": null,
   "metadata": {},
   "outputs": [],
   "source": [
    "a.get_model"
   ]
  },
  {
   "cell_type": "code",
   "execution_count": null,
   "metadata": {},
   "outputs": [],
   "source": [
    "b = ModelArchive()"
   ]
  },
  {
   "cell_type": "code",
   "execution_count": null,
   "metadata": {},
   "outputs": [],
   "source": [
    "b.regression"
   ]
  },
  {
   "cell_type": "code",
   "execution_count": null,
   "metadata": {},
   "outputs": [],
   "source": [
    "from dataclasses import dataclass, asdict\n",
    "\n",
    "@dataclass\n",
    "class AppConfig:\n",
    "    api_key: str\n",
    "    debug_mode: bool = False\n",
    "    max_retry_attempts: int = 3\n",
    "\n",
    "    @classmethod\n",
    "    def from_dict(cls, config_dict):\n",
    "        return cls(**config_dict)\n",
    "\n",
    "# Create a dictionary with configuration values\n",
    "config_dict = {\n",
    "    'api_key': 'your_api_key_here',\n",
    "    'debug_mode': True,\n",
    "    'max_retry_attempts': 5\n",
    "}\n",
    "\n",
    "# Create an AppConfig instance from the dictionary\n",
    "config = AppConfig.from_dict(config_dict)\n",
    "\n",
    "# Access configuration attributes\n",
    "print(config.api_key)\n",
    "print(config.debug_mode)\n",
    "print(config.max_retry_attempts)\n",
    "\n",
    "# Convert the config instance back to a dictionary\n",
    "config_as_dict = asdict(config)\n",
    "print(config_as_dict)"
   ]
  },
  {
   "cell_type": "code",
   "execution_count": null,
   "metadata": {},
   "outputs": [],
   "source": [
    "from config.model_types import RegressionModelAssignment"
   ]
  },
  {
   "cell_type": "code",
   "execution_count": null,
   "metadata": {},
   "outputs": [],
   "source": [
    "a= RegressionModelAssignment('LinearRegression')"
   ]
  },
  {
   "cell_type": "code",
   "execution_count": null,
   "metadata": {},
   "outputs": [],
   "source": [
    "a.hyperparameters.keys()"
   ]
  },
  {
   "cell_type": "code",
   "execution_count": null,
   "metadata": {},
   "outputs": [],
   "source": [
    "a.hyperparameters_dataclass"
   ]
  },
  {
   "cell_type": "code",
   "execution_count": null,
   "metadata": {},
   "outputs": [],
   "source": [
    "a.all_available_models"
   ]
  },
  {
   "cell_type": "code",
   "execution_count": null,
   "metadata": {},
   "outputs": [],
   "source": [
    "a.all_available_model_names"
   ]
  },
  {
   "cell_type": "code",
   "execution_count": null,
   "metadata": {},
   "outputs": [],
   "source": [
    "from config.model_types import ModelAssignment"
   ]
  },
  {
   "cell_type": "code",
   "execution_count": null,
   "metadata": {},
   "outputs": [],
   "source": [
    "a = ModelAssignment()\n",
    "a.all_available_models"
   ]
  },
  {
   "cell_type": "code",
   "execution_count": null,
   "metadata": {},
   "outputs": [],
   "source": [
    "a.all_available_model_names"
   ]
  },
  {
   "cell_type": "code",
   "execution_count": null,
   "metadata": {},
   "outputs": [],
   "source": [
    "from config.model_types import ClassificationModelAssignment"
   ]
  },
  {
   "cell_type": "code",
   "execution_count": null,
   "metadata": {},
   "outputs": [],
   "source": [
    "a =  ClassificationModelAssignment()"
   ]
  },
  {
   "cell_type": "code",
   "execution_count": null,
   "metadata": {},
   "outputs": [],
   "source": []
  },
  {
   "cell_type": "code",
   "execution_count": null,
   "metadata": {},
   "outputs": [],
   "source": []
  },
  {
   "cell_type": "code",
   "execution_count": null,
   "metadata": {},
   "outputs": [],
   "source": [
    "RegressionModelAssignment.all_avaliable_model_names"
   ]
  },
  {
   "cell_type": "code",
   "execution_count": null,
   "metadata": {},
   "outputs": [],
   "source": [
    "from src.Regression.Regression import Regression"
   ]
  },
  {
   "cell_type": "code",
   "execution_count": null,
   "metadata": {},
   "outputs": [],
   "source": [
    "import pandas as pd\n",
    "data= pd.DataFrame({'Actual': [1, 2, 3, 4, 3, 6, 1, 2 ,3 ,4 ,1 ],\n",
    "                    'Actual1': [1, 2, 3, 4, 5, 6, 7, 8, 9, 10, 11],\n",
    "                  'Predictions': [1, 6, 5, 4, 9, 6, 1, 2 ,4 ,4 ,1 ]})"
   ]
  },
  {
   "cell_type": "code",
   "execution_count": null,
   "metadata": {},
   "outputs": [],
   "source": [
    "an= Regression(data, 'Predictions')"
   ]
  },
  {
   "cell_type": "code",
   "execution_count": null,
   "metadata": {},
   "outputs": [],
   "source": [
    "an.model_archive['LinearRegression']"
   ]
  },
  {
   "cell_type": "code",
   "execution_count": null,
   "metadata": {},
   "outputs": [],
   "source": [
    "dataclasses= an.get_dataclass('LinearRegression')"
   ]
  },
  {
   "cell_type": "code",
   "execution_count": null,
   "metadata": {},
   "outputs": [],
   "source": [
    "type(dataclasses.fit_intercept)"
   ]
  },
  {
   "cell_type": "code",
   "execution_count": null,
   "metadata": {},
   "outputs": [],
   "source": [
    "from sklearn.linear_model import LinearRegression"
   ]
  },
  {
   "cell_type": "code",
   "execution_count": null,
   "metadata": {},
   "outputs": [],
   "source": [
    "import inspect\n",
    "model_type = 'LinearRegression'\n",
    "\n",
    "model= LinearRegression\n",
    "knowledge = {}\n",
    "signature = inspect.signature(model.__init__)\n",
    "for name, param in signature.parameters.items():\n",
    "    #Iterating over parameters of a single model\n",
    "    if (name != \"self\") & (param.default != inspect.Parameter.empty):\n",
    "        knowledge[name] = {}\n",
    "        knowledge[name]['type']= type(param.default)\n",
    "        knowledge[name]['default'] = param.default"
   ]
  },
  {
   "cell_type": "code",
   "execution_count": null,
   "metadata": {},
   "outputs": [],
   "source": [
    "knowledge"
   ]
  },
  {
   "cell_type": "code",
   "execution_count": null,
   "metadata": {},
   "outputs": [],
   "source": [
    "from dataclasses import make_dataclass, field\n",
    "data_classes= {}\n",
    "ext_configs= knowledge\n",
    "\n",
    "fields = [(param, ext_configs[param]['type'], field(default=ext_configs[param]['default'])) for param in ext_configs.keys()]\n",
    "data_class = make_dataclass('LinearRegression', fields)"
   ]
  },
  {
   "cell_type": "code",
   "execution_count": null,
   "metadata": {},
   "outputs": [],
   "source": [
    "data_class.fit_intercept"
   ]
  },
  {
   "cell_type": "code",
   "execution_count": null,
   "metadata": {},
   "outputs": [],
   "source": [
    "an.get_extended_configs(['LinearRegression'])"
   ]
  },
  {
   "cell_type": "code",
   "execution_count": null,
   "metadata": {},
   "outputs": [],
   "source": [
    "an.get_configs(['LinearRegression'])"
   ]
  },
  {
   "cell_type": "code",
   "execution_count": null,
   "metadata": {},
   "outputs": [],
   "source": [
    "import inspect\n",
    "knowledge= {}\n",
    "model_assignment= an.get_configs(['LinearRegression'])\n",
    "for model in model_assignment.keys():\n",
    "    knowledge[model] = {}\n",
    "    signature = inspect.signature(model_assignment[model].__init__)\n",
    "    for name, param in signature.parameters.items():\n",
    "        #Iterating over parameters of a single model\n",
    "        if (name != \"self\") & (param.default != inspect.Parameter.empty):\n",
    "            knowledge[model][name] = {}\n",
    "            knowledge[model][name]['type']= type(param.default)\n",
    "            knowledge[model][name]['default'] = param.default"
   ]
  },
  {
   "cell_type": "code",
   "execution_count": null,
   "metadata": {},
   "outputs": [],
   "source": []
  },
  {
   "cell_type": "code",
   "execution_count": null,
   "metadata": {},
   "outputs": [],
   "source": []
  },
  {
   "cell_type": "code",
   "execution_count": null,
   "metadata": {},
   "outputs": [],
   "source": []
  },
  {
   "cell_type": "code",
   "execution_count": null,
   "metadata": {},
   "outputs": [],
   "source": [
    "knowledge"
   ]
  },
  {
   "cell_type": "code",
   "execution_count": null,
   "metadata": {},
   "outputs": [],
   "source": [
    "\n",
    "from dataclasses import make_dataclass, field\n",
    "data_classes= {}\n",
    "ext_configs= an.get_extended_configs(['LinearRegression'])\n",
    "\n",
    "for model in ext_configs.keys():\n",
    "    fields = [(param, ext_configs[model][param]['type'], field(default=ext_configs[model][param]['default'])) for param in ext_configs[model].keys()]\n",
    "    data_classes[model] = make_dataclass(model, fields)"
   ]
  },
  {
   "cell_type": "code",
   "execution_count": null,
   "metadata": {},
   "outputs": [],
   "source": [
    "an.get_extended_configs(['LinearRegression'])"
   ]
  },
  {
   "cell_type": "code",
   "execution_count": null,
   "metadata": {},
   "outputs": [],
   "source": [
    "value= [[2,10], 4, 6, 9, 15]"
   ]
  },
  {
   "cell_type": "code",
   "execution_count": null,
   "metadata": {},
   "outputs": [],
   "source": [
    "result = []\n",
    "for item in value:\n",
    "    if isinstance(item, list):\n",
    "        result.extend(range(item[0], item[1] + 1))\n",
    "    else:\n",
    "        result.append(item)\n",
    "\n",
    "result= list(set(result))"
   ]
  },
  {
   "cell_type": "code",
   "execution_count": null,
   "metadata": {},
   "outputs": [],
   "source": [
    "result"
   ]
  },
  {
   "cell_type": "code",
   "execution_count": null,
   "metadata": {},
   "outputs": [],
   "source": [
    "import panel as pn\n",
    "a = pn.WidgetBox('## AAA', pn.widgets.Toggle(name= 'asdwd', value=True))"
   ]
  },
  {
   "cell_type": "code",
   "execution_count": null,
   "metadata": {},
   "outputs": [],
   "source": [
    "a[1].value"
   ]
  },
  {
   "cell_type": "code",
   "execution_count": 7,
   "metadata": {},
   "outputs": [],
   "source": [
    "from xgboost import XGBRegressor"
   ]
  },
  {
   "cell_type": "code",
   "execution_count": 20,
   "metadata": {},
   "outputs": [],
   "source": [
    "model= XGBRegressor()"
   ]
  },
  {
   "cell_type": "code",
   "execution_count": 30,
   "metadata": {},
   "outputs": [],
   "source": [
    "params= model.get_params()"
   ]
  },
  {
   "cell_type": "code",
   "execution_count": 31,
   "metadata": {},
   "outputs": [],
   "source": [
    "hyperparameters= {}\n",
    "for i, j in params.items():\n",
    "    hyperparameters[i] = {}\n",
    "    hyperparameters[i]['default'] = j\n",
    "    hyperparameters[i]['type'] = type(j)"
   ]
  },
  {
   "cell_type": "code",
   "execution_count": 32,
   "metadata": {},
   "outputs": [
    {
     "data": {
      "text/plain": [
       "{'objective': {'default': 'reg:squarederror', 'type': str},\n",
       " 'base_score': {'default': None, 'type': NoneType},\n",
       " 'booster': {'default': None, 'type': NoneType},\n",
       " 'callbacks': {'default': None, 'type': NoneType},\n",
       " 'colsample_bylevel': {'default': None, 'type': NoneType},\n",
       " 'colsample_bynode': {'default': None, 'type': NoneType},\n",
       " 'colsample_bytree': {'default': None, 'type': NoneType},\n",
       " 'early_stopping_rounds': {'default': None, 'type': NoneType},\n",
       " 'enable_categorical': {'default': False, 'type': bool},\n",
       " 'eval_metric': {'default': None, 'type': NoneType},\n",
       " 'gamma': {'default': None, 'type': NoneType},\n",
       " 'gpu_id': {'default': None, 'type': NoneType},\n",
       " 'grow_policy': {'default': None, 'type': NoneType},\n",
       " 'importance_type': {'default': None, 'type': NoneType},\n",
       " 'interaction_constraints': {'default': None, 'type': NoneType},\n",
       " 'learning_rate': {'default': None, 'type': NoneType},\n",
       " 'max_bin': {'default': None, 'type': NoneType},\n",
       " 'max_cat_to_onehot': {'default': None, 'type': NoneType},\n",
       " 'max_delta_step': {'default': None, 'type': NoneType},\n",
       " 'max_depth': {'default': None, 'type': NoneType},\n",
       " 'max_leaves': {'default': None, 'type': NoneType},\n",
       " 'min_child_weight': {'default': None, 'type': NoneType},\n",
       " 'missing': {'default': nan, 'type': float},\n",
       " 'monotone_constraints': {'default': None, 'type': NoneType},\n",
       " 'n_estimators': {'default': 100, 'type': int},\n",
       " 'n_jobs': {'default': None, 'type': NoneType},\n",
       " 'num_parallel_tree': {'default': None, 'type': NoneType},\n",
       " 'predictor': {'default': None, 'type': NoneType},\n",
       " 'random_state': {'default': None, 'type': NoneType},\n",
       " 'reg_alpha': {'default': None, 'type': NoneType},\n",
       " 'reg_lambda': {'default': None, 'type': NoneType},\n",
       " 'sampling_method': {'default': None, 'type': NoneType},\n",
       " 'scale_pos_weight': {'default': None, 'type': NoneType},\n",
       " 'subsample': {'default': None, 'type': NoneType},\n",
       " 'tree_method': {'default': None, 'type': NoneType},\n",
       " 'validate_parameters': {'default': None, 'type': NoneType},\n",
       " 'verbosity': {'default': None, 'type': NoneType}}"
      ]
     },
     "execution_count": 32,
     "metadata": {},
     "output_type": "execute_result"
    }
   ],
   "source": [
    "hyperparameters"
   ]
  },
  {
   "cell_type": "code",
   "execution_count": 26,
   "metadata": {},
   "outputs": [],
   "source": [
    "params= pd.DataFrame(params)\n",
    "params['type'] = type(params['default'])"
   ]
  },
  {
   "cell_type": "code",
   "execution_count": 28,
   "metadata": {},
   "outputs": [],
   "source": [
    "params['type'] = params['default'].apply(lambda x: type(x))"
   ]
  },
  {
   "cell_type": "code",
   "execution_count": 29,
   "metadata": {},
   "outputs": [
    {
     "data": {
      "text/html": [
       "<div>\n",
       "<style scoped>\n",
       "    .dataframe tbody tr th:only-of-type {\n",
       "        vertical-align: middle;\n",
       "    }\n",
       "\n",
       "    .dataframe tbody tr th {\n",
       "        vertical-align: top;\n",
       "    }\n",
       "\n",
       "    .dataframe thead th {\n",
       "        text-align: right;\n",
       "    }\n",
       "</style>\n",
       "<table border=\"1\" class=\"dataframe\">\n",
       "  <thead>\n",
       "    <tr style=\"text-align: right;\">\n",
       "      <th></th>\n",
       "      <th>default</th>\n",
       "      <th>type</th>\n",
       "    </tr>\n",
       "  </thead>\n",
       "  <tbody>\n",
       "    <tr>\n",
       "      <th>objective</th>\n",
       "      <td>reg:squarederror</td>\n",
       "      <td>&lt;class 'str'&gt;</td>\n",
       "    </tr>\n",
       "    <tr>\n",
       "      <th>base_score</th>\n",
       "      <td>None</td>\n",
       "      <td>&lt;class 'NoneType'&gt;</td>\n",
       "    </tr>\n",
       "    <tr>\n",
       "      <th>booster</th>\n",
       "      <td>None</td>\n",
       "      <td>&lt;class 'NoneType'&gt;</td>\n",
       "    </tr>\n",
       "    <tr>\n",
       "      <th>callbacks</th>\n",
       "      <td>None</td>\n",
       "      <td>&lt;class 'NoneType'&gt;</td>\n",
       "    </tr>\n",
       "    <tr>\n",
       "      <th>colsample_bylevel</th>\n",
       "      <td>None</td>\n",
       "      <td>&lt;class 'NoneType'&gt;</td>\n",
       "    </tr>\n",
       "    <tr>\n",
       "      <th>colsample_bynode</th>\n",
       "      <td>None</td>\n",
       "      <td>&lt;class 'NoneType'&gt;</td>\n",
       "    </tr>\n",
       "    <tr>\n",
       "      <th>colsample_bytree</th>\n",
       "      <td>None</td>\n",
       "      <td>&lt;class 'NoneType'&gt;</td>\n",
       "    </tr>\n",
       "    <tr>\n",
       "      <th>early_stopping_rounds</th>\n",
       "      <td>None</td>\n",
       "      <td>&lt;class 'NoneType'&gt;</td>\n",
       "    </tr>\n",
       "    <tr>\n",
       "      <th>enable_categorical</th>\n",
       "      <td>False</td>\n",
       "      <td>&lt;class 'bool'&gt;</td>\n",
       "    </tr>\n",
       "    <tr>\n",
       "      <th>eval_metric</th>\n",
       "      <td>None</td>\n",
       "      <td>&lt;class 'NoneType'&gt;</td>\n",
       "    </tr>\n",
       "    <tr>\n",
       "      <th>gamma</th>\n",
       "      <td>None</td>\n",
       "      <td>&lt;class 'NoneType'&gt;</td>\n",
       "    </tr>\n",
       "    <tr>\n",
       "      <th>gpu_id</th>\n",
       "      <td>None</td>\n",
       "      <td>&lt;class 'NoneType'&gt;</td>\n",
       "    </tr>\n",
       "    <tr>\n",
       "      <th>grow_policy</th>\n",
       "      <td>None</td>\n",
       "      <td>&lt;class 'NoneType'&gt;</td>\n",
       "    </tr>\n",
       "    <tr>\n",
       "      <th>importance_type</th>\n",
       "      <td>None</td>\n",
       "      <td>&lt;class 'NoneType'&gt;</td>\n",
       "    </tr>\n",
       "    <tr>\n",
       "      <th>interaction_constraints</th>\n",
       "      <td>None</td>\n",
       "      <td>&lt;class 'NoneType'&gt;</td>\n",
       "    </tr>\n",
       "    <tr>\n",
       "      <th>learning_rate</th>\n",
       "      <td>None</td>\n",
       "      <td>&lt;class 'NoneType'&gt;</td>\n",
       "    </tr>\n",
       "    <tr>\n",
       "      <th>max_bin</th>\n",
       "      <td>None</td>\n",
       "      <td>&lt;class 'NoneType'&gt;</td>\n",
       "    </tr>\n",
       "    <tr>\n",
       "      <th>max_cat_to_onehot</th>\n",
       "      <td>None</td>\n",
       "      <td>&lt;class 'NoneType'&gt;</td>\n",
       "    </tr>\n",
       "    <tr>\n",
       "      <th>max_delta_step</th>\n",
       "      <td>None</td>\n",
       "      <td>&lt;class 'NoneType'&gt;</td>\n",
       "    </tr>\n",
       "    <tr>\n",
       "      <th>max_depth</th>\n",
       "      <td>None</td>\n",
       "      <td>&lt;class 'NoneType'&gt;</td>\n",
       "    </tr>\n",
       "    <tr>\n",
       "      <th>max_leaves</th>\n",
       "      <td>None</td>\n",
       "      <td>&lt;class 'NoneType'&gt;</td>\n",
       "    </tr>\n",
       "    <tr>\n",
       "      <th>min_child_weight</th>\n",
       "      <td>None</td>\n",
       "      <td>&lt;class 'NoneType'&gt;</td>\n",
       "    </tr>\n",
       "    <tr>\n",
       "      <th>missing</th>\n",
       "      <td>NaN</td>\n",
       "      <td>&lt;class 'float'&gt;</td>\n",
       "    </tr>\n",
       "    <tr>\n",
       "      <th>monotone_constraints</th>\n",
       "      <td>None</td>\n",
       "      <td>&lt;class 'NoneType'&gt;</td>\n",
       "    </tr>\n",
       "    <tr>\n",
       "      <th>n_estimators</th>\n",
       "      <td>100</td>\n",
       "      <td>&lt;class 'int'&gt;</td>\n",
       "    </tr>\n",
       "    <tr>\n",
       "      <th>n_jobs</th>\n",
       "      <td>None</td>\n",
       "      <td>&lt;class 'NoneType'&gt;</td>\n",
       "    </tr>\n",
       "    <tr>\n",
       "      <th>num_parallel_tree</th>\n",
       "      <td>None</td>\n",
       "      <td>&lt;class 'NoneType'&gt;</td>\n",
       "    </tr>\n",
       "    <tr>\n",
       "      <th>predictor</th>\n",
       "      <td>None</td>\n",
       "      <td>&lt;class 'NoneType'&gt;</td>\n",
       "    </tr>\n",
       "    <tr>\n",
       "      <th>random_state</th>\n",
       "      <td>None</td>\n",
       "      <td>&lt;class 'NoneType'&gt;</td>\n",
       "    </tr>\n",
       "    <tr>\n",
       "      <th>reg_alpha</th>\n",
       "      <td>None</td>\n",
       "      <td>&lt;class 'NoneType'&gt;</td>\n",
       "    </tr>\n",
       "    <tr>\n",
       "      <th>reg_lambda</th>\n",
       "      <td>None</td>\n",
       "      <td>&lt;class 'NoneType'&gt;</td>\n",
       "    </tr>\n",
       "    <tr>\n",
       "      <th>sampling_method</th>\n",
       "      <td>None</td>\n",
       "      <td>&lt;class 'NoneType'&gt;</td>\n",
       "    </tr>\n",
       "    <tr>\n",
       "      <th>scale_pos_weight</th>\n",
       "      <td>None</td>\n",
       "      <td>&lt;class 'NoneType'&gt;</td>\n",
       "    </tr>\n",
       "    <tr>\n",
       "      <th>subsample</th>\n",
       "      <td>None</td>\n",
       "      <td>&lt;class 'NoneType'&gt;</td>\n",
       "    </tr>\n",
       "    <tr>\n",
       "      <th>tree_method</th>\n",
       "      <td>None</td>\n",
       "      <td>&lt;class 'NoneType'&gt;</td>\n",
       "    </tr>\n",
       "    <tr>\n",
       "      <th>validate_parameters</th>\n",
       "      <td>None</td>\n",
       "      <td>&lt;class 'NoneType'&gt;</td>\n",
       "    </tr>\n",
       "    <tr>\n",
       "      <th>verbosity</th>\n",
       "      <td>None</td>\n",
       "      <td>&lt;class 'NoneType'&gt;</td>\n",
       "    </tr>\n",
       "  </tbody>\n",
       "</table>\n",
       "</div>"
      ],
      "text/plain": [
       "                                  default                type\n",
       "objective                reg:squarederror       <class 'str'>\n",
       "base_score                           None  <class 'NoneType'>\n",
       "booster                              None  <class 'NoneType'>\n",
       "callbacks                            None  <class 'NoneType'>\n",
       "colsample_bylevel                    None  <class 'NoneType'>\n",
       "colsample_bynode                     None  <class 'NoneType'>\n",
       "colsample_bytree                     None  <class 'NoneType'>\n",
       "early_stopping_rounds                None  <class 'NoneType'>\n",
       "enable_categorical                  False      <class 'bool'>\n",
       "eval_metric                          None  <class 'NoneType'>\n",
       "gamma                                None  <class 'NoneType'>\n",
       "gpu_id                               None  <class 'NoneType'>\n",
       "grow_policy                          None  <class 'NoneType'>\n",
       "importance_type                      None  <class 'NoneType'>\n",
       "interaction_constraints              None  <class 'NoneType'>\n",
       "learning_rate                        None  <class 'NoneType'>\n",
       "max_bin                              None  <class 'NoneType'>\n",
       "max_cat_to_onehot                    None  <class 'NoneType'>\n",
       "max_delta_step                       None  <class 'NoneType'>\n",
       "max_depth                            None  <class 'NoneType'>\n",
       "max_leaves                           None  <class 'NoneType'>\n",
       "min_child_weight                     None  <class 'NoneType'>\n",
       "missing                               NaN     <class 'float'>\n",
       "monotone_constraints                 None  <class 'NoneType'>\n",
       "n_estimators                          100       <class 'int'>\n",
       "n_jobs                               None  <class 'NoneType'>\n",
       "num_parallel_tree                    None  <class 'NoneType'>\n",
       "predictor                            None  <class 'NoneType'>\n",
       "random_state                         None  <class 'NoneType'>\n",
       "reg_alpha                            None  <class 'NoneType'>\n",
       "reg_lambda                           None  <class 'NoneType'>\n",
       "sampling_method                      None  <class 'NoneType'>\n",
       "scale_pos_weight                     None  <class 'NoneType'>\n",
       "subsample                            None  <class 'NoneType'>\n",
       "tree_method                          None  <class 'NoneType'>\n",
       "validate_parameters                  None  <class 'NoneType'>\n",
       "verbosity                            None  <class 'NoneType'>"
      ]
     },
     "execution_count": 29,
     "metadata": {},
     "output_type": "execute_result"
    }
   ],
   "source": [
    "params"
   ]
  },
  {
   "cell_type": "code",
   "execution_count": 13,
   "metadata": {},
   "outputs": [],
   "source": [
    "from sklearn.linear_model import LinearRegression\n",
    "model_assignment= {\n",
    "                'LinearRegression': LinearRegression,\n",
    "                'XGBRegressor': XGBRegressor\n",
    "                }"
   ]
  },
  {
   "cell_type": "code",
   "execution_count": 17,
   "metadata": {},
   "outputs": [],
   "source": [
    "import inspect\n",
    "knowledge= {}\n",
    "for model in model_assignment.keys():\n",
    "    knowledge[model] = {}\n",
    "    signature = inspect.signature(model_assignment[model].__init__)\n",
    "    for name, param in signature.parameters.items():\n",
    "        #Iterating over parameters of a single model\n",
    "        knowledge[model][name]= name\n",
    "        knowledge[model][name] = {}\n",
    "        knowledge[model][name]['type']= type(param.default)\n",
    "        knowledge[model][name]['default'] = param.default"
   ]
  },
  {
   "cell_type": "code",
   "execution_count": 18,
   "metadata": {},
   "outputs": [
    {
     "data": {
      "text/plain": [
       "{'LinearRegression': {'self': {'type': type, 'default': inspect._empty},\n",
       "  'fit_intercept': {'type': bool, 'default': True},\n",
       "  'copy_X': {'type': bool, 'default': True},\n",
       "  'n_jobs': {'type': NoneType, 'default': None},\n",
       "  'positive': {'type': bool, 'default': False}},\n",
       " 'XGBRegressor': {'self': {'type': type, 'default': inspect._empty},\n",
       "  'objective': {'type': str, 'default': 'reg:squarederror'},\n",
       "  'kwargs': {'type': type, 'default': inspect._empty}}}"
      ]
     },
     "execution_count": 18,
     "metadata": {},
     "output_type": "execute_result"
    }
   ],
   "source": [
    "knowledge"
   ]
  },
  {
   "cell_type": "code",
   "execution_count": null,
   "metadata": {},
   "outputs": [],
   "source": []
  }
 ],
 "metadata": {
  "kernelspec": {
   "display_name": "Regression-interactive",
   "language": "python",
   "name": "python3"
  },
  "language_info": {
   "codemirror_mode": {
    "name": "ipython",
    "version": 3
   },
   "file_extension": ".py",
   "mimetype": "text/x-python",
   "name": "python",
   "nbconvert_exporter": "python",
   "pygments_lexer": "ipython3",
   "version": "3.9.16"
  },
  "orig_nbformat": 4
 },
 "nbformat": 4,
 "nbformat_minor": 2
}
