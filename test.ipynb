{
 "cells": [
  {
   "cell_type": "code",
   "execution_count": 1,
   "metadata": {},
   "outputs": [
    {
     "name": "stderr",
     "output_type": "stream",
     "text": [
      "c:\\Users\\sizzl\\anaconda3\\envs\\Regression-interactive\\lib\\site-packages\\tqdm\\auto.py:21: TqdmWarning: IProgress not found. Please update jupyter and ipywidgets. See https://ipywidgets.readthedocs.io/en/stable/user_install.html\n",
      "  from .autonotebook import tqdm as notebook_tqdm\n"
     ]
    }
   ],
   "source": [
    "from src.Panel.ML_visualizer_Regression import Visualize_Regression"
   ]
  },
  {
   "cell_type": "code",
   "execution_count": 2,
   "metadata": {},
   "outputs": [],
   "source": [
    "import pandas as pd\n",
    "data= pd.DataFrame({'A': [1, 2, 3, 4, 3, 6, 1, 2 ,3 ,4 ,1 ],\n",
    "                    'A1': [1, 2, 3, 4, 5, 6, 7, 8, 9, 10, 11],\n",
    "                  'P': [1, 6, 5, 4, 9, 6, 1, 2 ,4 ,4 ,1 ]})"
   ]
  },
  {
   "cell_type": "code",
   "execution_count": 3,
   "metadata": {},
   "outputs": [
    {
     "data": {
      "text/plain": [
       "<Popen: returncode: None args: ['mlflow', 'ui']>"
      ]
     },
     "execution_count": 3,
     "metadata": {},
     "output_type": "execute_result"
    }
   ],
   "source": [
    "import subprocess\n",
    "subprocess.Popen([\"mlflow\", \"ui\"])"
   ]
  },
  {
   "cell_type": "code",
   "execution_count": 4,
   "metadata": {},
   "outputs": [
    {
     "name": "stderr",
     "output_type": "stream",
     "text": [
      "WARNING:param.BootstrapTemplate00133: Setting non-parameter attribute background_color=#FFFFFF using a mechanism intended only for parameters\n",
      "WARNING:param.BootstrapTemplate00133: Setting non-parameter attribute corner_radius=1 using a mechanism intended only for parameters\n"
     ]
    },
    {
     "name": "stderr",
     "output_type": "stream",
     "text": [
      "WARNING:param.BootstrapTemplate00133: Setting non-parameter attribute main_layout= using a mechanism intended only for parameters\n"
     ]
    },
    {
     "name": "stdout",
     "output_type": "stream",
     "text": [
      "Launching server at http://localhost:63383\n"
     ]
    },
    {
     "name": "stdout",
     "output_type": "stream",
     "text": [
      "Index(['A1', 'A', 'P'], dtype='object')\n",
      "For Train\n",
      "r2_score: 0.9770309477756286\n",
      "mse:0.08636363636363631\n",
      "rmse:0.29387690682262924\n",
      "mape:0.15075757575757584\n",
      "mae:0.24545454545454576\n",
      "For Validation\n",
      "r2_score: -1.2188842975206615\n",
      "mse:13.868026859504134\n",
      "rmse:3.723979975712025\n",
      "mape:0.49842171717171707\n",
      "mae:3.125\n",
      "For Test\n",
      "r2_score: 0.7528696051423327\n",
      "mse:0.5560433884297515\n",
      "rmse:0.7456831689328596\n",
      "mape:0.49999999999999956\n",
      "mae:0.7386363636363633\n"
     ]
    },
    {
     "name": "stderr",
     "output_type": "stream",
     "text": [
      "c:\\Users\\sizzl\\anaconda3\\envs\\Regression-interactive\\lib\\site-packages\\_distutils_hack\\__init__.py:33: UserWarning: Setuptools is replacing distutils.\n",
      "  warnings.warn(\"Setuptools is replacing distutils.\")\n",
      "WARNING:param.main: PlotlyPlot was not imported on instantiation may not render in the served application. Ensure you add the following to the top of your application:\n",
      "\n",
      "pn.extension('plotly')\n",
      "\n"
     ]
    },
    {
     "name": "stdout",
     "output_type": "stream",
     "text": [
      "For Process\n",
      "r2_score: 0.9770309477756286\n",
      "mse:0.08636363636363631\n",
      "rmse:0.29387690682262924\n",
      "mape:0.15075757575757584\n",
      "mae:0.24545454545454576\n",
      "For Process\n",
      "r2_score: -1.2188842975206615\n",
      "mse:13.868026859504134\n",
      "rmse:3.723979975712025\n",
      "mape:0.49842171717171707\n",
      "mae:3.125\n",
      "For Process\n",
      "r2_score: 0.7528696051423327\n",
      "mse:0.5560433884297515\n",
      "rmse:0.7456831689328596\n",
      "mape:0.49999999999999956\n",
      "mae:0.7386363636363633\n",
      "Index(['A1', 'A', 'P'], dtype='object')\n",
      "For Train\n",
      "r2_score: 0.9728256832849423\n",
      "mse:0.1021754308486166\n",
      "rmse:0.3196489181095669\n",
      "mape:0.14046762536024898\n",
      "mae:0.2200289649564538\n",
      "For Validation\n",
      "r2_score: -1.1409057344774176\n",
      "mse:13.38066084048386\n",
      "rmse:3.6579585618871984\n",
      "mape:0.4909123972275307\n",
      "mae:3.0655972918628733\n",
      "For Test\n",
      "r2_score: 0.7737417163795778\n",
      "mse:0.5090811381459499\n",
      "rmse:0.7134992208446691\n",
      "mape:0.49663560091390524\n",
      "mae:0.693180972658046\n",
      "For Process\n",
      "r2_score: 0.9728256832849423\n",
      "mse:0.1021754308486166\n",
      "rmse:0.3196489181095669\n",
      "mape:0.14046762536024898\n",
      "mae:0.2200289649564538\n",
      "For Process\n",
      "r2_score: -1.1409057344774172\n",
      "mse:13.380660840483857\n",
      "rmse:3.657958561887198\n",
      "mape:0.4909123972275307\n",
      "mae:3.0655972918628733\n",
      "For Process\n",
      "r2_score: 0.7737417163795778\n",
      "mse:0.5090811381459499\n",
      "rmse:0.7134992208446691\n",
      "mape:0.49663560091390524\n",
      "mae:0.693180972658046\n"
     ]
    }
   ],
   "source": [
    "a= Visualize_Regression(data)"
   ]
  },
  {
   "cell_type": "code",
   "execution_count": 4,
   "metadata": {},
   "outputs": [
    {
     "data": {
      "text/plain": [
       "0.5000000000000003"
      ]
     },
     "execution_count": 4,
     "metadata": {},
     "output_type": "execute_result"
    }
   ],
   "source": [
    "a.band_error[0]"
   ]
  },
  {
   "cell_type": "code",
   "execution_count": 6,
   "metadata": {},
   "outputs": [
    {
     "name": "stdout",
     "output_type": "stream",
     "text": [
      "Launching server at http://localhost:65319\n"
     ]
    },
    {
     "data": {
      "text/plain": [
       "<panel.io.server.Server at 0x1e43594e6d0>"
      ]
     },
     "execution_count": 6,
     "metadata": {},
     "output_type": "execute_result"
    }
   ],
   "source": [
    "import panel as pn\n",
    "pn.serve(pn.widgets.Button(name='AAA', button_type='primary', sizing_mode= 'stretch_width', button_style='outline'))"
   ]
  },
  {
   "cell_type": "code",
   "execution_count": 5,
   "metadata": {},
   "outputs": [
    {
     "data": {
      "text/plain": [
       "'pranjal'"
      ]
     },
     "execution_count": 5,
     "metadata": {},
     "output_type": "execute_result"
    }
   ],
   "source": [
    "'Pranjal'.lower()"
   ]
  },
  {
   "cell_type": "code",
   "execution_count": 7,
   "metadata": {},
   "outputs": [
    {
     "name": "stderr",
     "output_type": "stream",
     "text": [
      "WARNING:param.Row00386: Displaying Panel objects in the notebook requires the panel extension to be loaded. Ensure you run pn.extension() before displaying objects in the notebook.\n"
     ]
    },
    {
     "data": {
      "text/plain": [
       "Row(sizing_mode='stretch_width')\n",
       "    [0] Column(max_width=350)\n",
       "        [0] Column(sizing_mode='stretch_width', styles={'background': '...})\n",
       "            [0] Markdown(str)\n",
       "            [1] EditableRangeSlider(name='Range Slider', step=0.01, value=(0.6, 0.8), width=300)\n",
       "            [2] FloatInput(end=100, name='Random State f..., start=0, step=1)\n",
       "        [1] WidgetBox(sizing_mode='stretch_width')\n",
       "            [0] Markdown(str)\n",
       "            [1] IntInput(end=10, name='Parallel Jobs', start=0)\n",
       "            [2] IntInput(end=10, name='Splits', start=0)\n",
       "            [3] IntInput(end=15, name='Repeats', start=0)\n",
       "            [4] IntInput(end=10, name='Random State', start=0)\n",
       "            [5] Select(options=['explained_variance_score...], value='neg_mean_absolute_percent...)\n",
       "            [6] IntInput(end=1000, name='No of Trials', start=0, value=100)\n",
       "        [2] TextInput(name='fit_intercept', placeholder='comma separated v..., sizing_mode='stretch_width')\n",
       "        [3] TextInput(name='copy_X', placeholder='comma separated v..., sizing_mode='stretch_width')\n",
       "        [4] TextInput(name='n_jobs', placeholder='comma separated v..., sizing_mode='stretch_width')\n",
       "        [5] TextInput(name='positive', placeholder='comma separated v..., sizing_mode='stretch_width')\n",
       "        [6] Button(button_type='primary', name='Optimize')\n",
       "    [1] GridSpec(ncols=0, nrows=0)"
      ]
     },
     "execution_count": 7,
     "metadata": {},
     "output_type": "execute_result"
    }
   ],
   "source": [
    "a.tab_model_type[1]"
   ]
  },
  {
   "cell_type": "code",
   "execution_count": null,
   "metadata": {},
   "outputs": [
    {
     "name": "stdout",
     "output_type": "stream",
     "text": [
      "Index(['A', 'A1', 'P'], dtype='object')\n",
      "For Train\n",
      "r2_score: 1.0\n",
      "mse:1.1093356479670479e-30\n",
      "rmse:1.0532500405730103e-15\n",
      "mape:4.070817756958907e-16\n",
      "mae:7.771561172376096e-16\n",
      "For Validation\n",
      "r2_score: -1.126865671641791\n",
      "mse:11.4\n",
      "rmse:3.3763886032268267\n",
      "mape:0.39666666666666667\n",
      "mae:2.6\n",
      "For Test\n",
      "r2_score: 1.0\n",
      "mse:1.67632942359465e-30\n",
      "rmse:1.2947314098277875e-15\n",
      "mape:9.43689570931383e-16\n",
      "mae:1.1102230246251565e-15\n"
     ]
    },
    {
     "name": "stderr",
     "output_type": "stream",
     "text": [
      "WARNING:param.Column02922: Setting non-parameter attribute scrollable=True using a mechanism intended only for parameters\n",
      "WARNING:param.Column03018: Setting non-parameter attribute scrollable=True using a mechanism intended only for parameters\n",
      "WARNING:param.Column03133: Setting non-parameter attribute scrollable=True using a mechanism intended only for parameters\n"
     ]
    },
    {
     "name": "stdout",
     "output_type": "stream",
     "text": [
      "For Process\n",
      "r2_score: 1.0\n",
      "mse:1.1093356479670479e-30\n",
      "rmse:1.0532500405730103e-15\n",
      "mape:4.070817756958907e-16\n",
      "mae:7.771561172376096e-16\n",
      "For Process\n",
      "r2_score: -1.126865671641791\n",
      "mse:11.4\n",
      "rmse:3.3763886032268267\n",
      "mape:0.39666666666666667\n",
      "mae:2.6\n",
      "For Process\n",
      "r2_score: 1.0\n",
      "mse:1.67632942359465e-30\n",
      "rmse:1.2947314098277875e-15\n",
      "mape:9.43689570931383e-16\n",
      "mae:1.1102230246251565e-15\n"
     ]
    }
   ],
   "source": [
    "a.plotly_simple[0]= a.gridspecs[0]"
   ]
  },
  {
   "cell_type": "code",
   "execution_count": null,
   "metadata": {},
   "outputs": [],
   "source": []
  },
  {
   "cell_type": "code",
   "execution_count": 13,
   "metadata": {},
   "outputs": [
    {
     "name": "stdout",
     "output_type": "stream",
     "text": [
      "Launching server at http://localhost:50652\n"
     ]
    },
    {
     "data": {
      "text/plain": [
       "<panel.io.server.Server at 0x25a5772a340>"
      ]
     },
     "execution_count": 13,
     "metadata": {},
     "output_type": "execute_result"
    }
   ],
   "source": [
    "import panel as pn\n",
    "pn.serve(a.plotly_simple[0])"
   ]
  },
  {
   "cell_type": "code",
   "execution_count": 9,
   "metadata": {},
   "outputs": [
    {
     "name": "stdout",
     "output_type": "stream",
     "text": [
      "Launching server at http://localhost:50581\n"
     ]
    },
    {
     "data": {
      "text/plain": [
       "<panel.io.server.Server at 0x25a57666430>"
      ]
     },
     "execution_count": 9,
     "metadata": {},
     "output_type": "execute_result"
    }
   ],
   "source": [
    "import panel as pn\n",
    "\n",
    "def replace_callback(event):\n",
    "    column_layout[1] = grid_spec2\n",
    "\n",
    "# Create two different GridSpecs\n",
    "grid_spec1 = pn.GridSpec(width=500, height=500)\n",
    "grid_spec1[0, 0] = pn.widgets.Button(name=\"Button 1\")\n",
    "grid_spec1[0, 1] = pn.widgets.Button(name=\"Button 1\")\n",
    "\n",
    "grid_spec2 = pn.GridSpec(width=500, height=500)\n",
    "grid_spec2[0, 0] = pn.widgets.TextInput(name=\"Text Input\")\n",
    "grid_spec2[0, 1] = pn.widgets.TextInput(name=\"Text Input\")\n",
    "\n",
    "# Create a Button to trigger the replacement\n",
    "replace_button = pn.widgets.Button(name=\"Replace GridSpec\")\n",
    "replace_button.on_click(replace_callback)\n",
    "\n",
    "# Create a Column layout to hold the components\n",
    "column_layout = pn.Column(replace_button, grid_spec1)\n",
    "\n",
    "# Show the layout\n",
    "pn.serve(column_layout)\n",
    "\n",
    "\n",
    "\n",
    "\n",
    "\n"
   ]
  },
  {
   "cell_type": "code",
   "execution_count": 6,
   "metadata": {},
   "outputs": [
    {
     "name": "stderr",
     "output_type": "stream",
     "text": [
      "WARNING:param.GridSpec00471: Displaying Panel objects in the notebook requires the panel extension to be loaded. Ensure you run pn.extension() before displaying objects in the notebook.\n"
     ]
    },
    {
     "data": {
      "text/plain": [
       "GridSpec(height=800, ncols=6, nrows=3)\n",
       "    [0] Plotly(Figure, height=266, relayout_data={'autosize': True}, viewport={'xaxis.range': [-0.264576...})\n",
       "    [1] Column(height=266)\n",
       "        [0] Number(name='R2 score', value=0.9770309477756286)\n",
       "        [1] Number(name='MSE', value=0.08636363636363634)\n",
       "        [2] Number(name='RMSE', value=0.2938769068226293)\n",
       "        [3] Number(name='MAPE', value=0.15075757575757587)\n",
       "        [4] Number(name='MAE', value=0.24545454545454573)\n",
       "    [2] Plotly(Figure, height=266, relayout_data={'autosize': True}, viewport={'xaxis.range': [-0.198432...})\n",
       "    [3] Column(height=266)\n",
       "        [0] Number(name='R2 score', value=-1.218884297520661)\n",
       "        [1] Number(name='MSE', value=13.86802685950413)\n",
       "        [2] Number(name='RMSE', value=3.7239799757120244)\n",
       "        [3] Number(name='MAPE', value=0.49842171717171724)\n",
       "        [4] Number(name='MAE', value=3.125)\n",
       "    [4] Plotly(Figure, height=266, relayout_data={'autosize': True}, viewport={'xaxis.range': [-0.066144...})\n",
       "    [5] Column(height=266)\n",
       "        [0] Number(name='R2 score', value=0.7528696051423319)\n",
       "        [1] Number(name='MSE', value=0.5560433884297531)\n",
       "        [2] Number(name='RMSE', value=0.7456831689328606)\n",
       "        [3] Number(name='MAPE', value=0.5000000000000003)\n",
       "        [4] Number(name='MAE', value=0.7386363636363644)"
      ]
     },
     "execution_count": 6,
     "metadata": {},
     "output_type": "execute_result"
    }
   ],
   "source": [
    "a.plotly_simple[0]"
   ]
  },
  {
   "cell_type": "code",
   "execution_count": null,
   "metadata": {},
   "outputs": [
    {
     "name": "stdout",
     "output_type": "stream",
     "text": [
      "Yes\n"
     ]
    }
   ],
   "source": [
    "train= None\n",
    "test=None\n",
    "validation= 'P'\n",
    "\n",
    "\n",
    "if ((train is None) | (test is None) | (validation is None)):\n",
    "        print('Yes')\n",
    "else:\n",
    "    print('No')"
   ]
  },
  {
   "cell_type": "code",
   "execution_count": null,
   "metadata": {},
   "outputs": [],
   "source": []
  },
  {
   "cell_type": "code",
   "execution_count": null,
   "metadata": {},
   "outputs": [],
   "source": [
    "RegressionModelAssignment"
   ]
  },
  {
   "cell_type": "code",
   "execution_count": null,
   "metadata": {},
   "outputs": [],
   "source": [
    "from dataclasses import dataclass"
   ]
  },
  {
   "cell_type": "code",
   "execution_count": null,
   "metadata": {},
   "outputs": [],
   "source": [
    "from config.model_types import ModelArchive"
   ]
  },
  {
   "cell_type": "code",
   "execution_count": null,
   "metadata": {},
   "outputs": [],
   "source": [
    "from config.model_types import ModelArchive\n",
    "\n",
    "@dataclass\n",
    "class ModelAssignment:\n",
    "    model_type:str\n",
    "\n",
    "    @property\n",
    "    def model(self):\n",
    "        return ModelArchive().regression[self.model_type]\n",
    "    \n",
    "    @property\n",
    "    def dataclass(self):\n",
    "        return ModelArchive().regression"
   ]
  },
  {
   "cell_type": "code",
   "execution_count": null,
   "metadata": {},
   "outputs": [],
   "source": [
    "a= ModelAssignment('LinearRegression')"
   ]
  },
  {
   "cell_type": "code",
   "execution_count": null,
   "metadata": {},
   "outputs": [],
   "source": [
    "a.get_model"
   ]
  },
  {
   "cell_type": "code",
   "execution_count": null,
   "metadata": {},
   "outputs": [],
   "source": [
    "b = ModelArchive()"
   ]
  },
  {
   "cell_type": "code",
   "execution_count": null,
   "metadata": {},
   "outputs": [],
   "source": [
    "b.regression"
   ]
  },
  {
   "cell_type": "code",
   "execution_count": null,
   "metadata": {},
   "outputs": [],
   "source": [
    "from dataclasses import dataclass, asdict\n",
    "\n",
    "@dataclass\n",
    "class AppConfig:\n",
    "    api_key: str\n",
    "    debug_mode: bool = False\n",
    "    max_retry_attempts: int = 3\n",
    "\n",
    "    @classmethod\n",
    "    def from_dict(cls, config_dict):\n",
    "        return cls(**config_dict)\n",
    "\n",
    "# Create a dictionary with configuration values\n",
    "config_dict = {\n",
    "    'api_key': 'your_api_key_here',\n",
    "    'debug_mode': True,\n",
    "    'max_retry_attempts': 5\n",
    "}\n",
    "\n",
    "# Create an AppConfig instance from the dictionary\n",
    "config = AppConfig.from_dict(config_dict)\n",
    "\n",
    "# Access configuration attributes\n",
    "print(config.api_key)\n",
    "print(config.debug_mode)\n",
    "print(config.max_retry_attempts)\n",
    "\n",
    "# Convert the config instance back to a dictionary\n",
    "config_as_dict = asdict(config)\n",
    "print(config_as_dict)"
   ]
  },
  {
   "cell_type": "code",
   "execution_count": null,
   "metadata": {},
   "outputs": [],
   "source": [
    "from config.model_types import RegressionModelAssignment"
   ]
  },
  {
   "cell_type": "code",
   "execution_count": null,
   "metadata": {},
   "outputs": [],
   "source": [
    "a= RegressionModelAssignment('LinearRegression')"
   ]
  },
  {
   "cell_type": "code",
   "execution_count": null,
   "metadata": {},
   "outputs": [],
   "source": [
    "a.hyperparameters.keys()"
   ]
  },
  {
   "cell_type": "code",
   "execution_count": null,
   "metadata": {},
   "outputs": [],
   "source": [
    "a.hyperparameters_dataclass"
   ]
  },
  {
   "cell_type": "code",
   "execution_count": null,
   "metadata": {},
   "outputs": [],
   "source": [
    "a.all_available_models"
   ]
  },
  {
   "cell_type": "code",
   "execution_count": null,
   "metadata": {},
   "outputs": [],
   "source": [
    "a.all_available_model_names"
   ]
  },
  {
   "cell_type": "code",
   "execution_count": null,
   "metadata": {},
   "outputs": [],
   "source": [
    "from config.model_types import ModelAssignment"
   ]
  },
  {
   "cell_type": "code",
   "execution_count": null,
   "metadata": {},
   "outputs": [],
   "source": [
    "a = ModelAssignment()\n",
    "a.all_available_models"
   ]
  },
  {
   "cell_type": "code",
   "execution_count": null,
   "metadata": {},
   "outputs": [],
   "source": [
    "a.all_available_model_names"
   ]
  },
  {
   "cell_type": "code",
   "execution_count": null,
   "metadata": {},
   "outputs": [],
   "source": [
    "from config.model_types import ClassificationModelAssignment"
   ]
  },
  {
   "cell_type": "code",
   "execution_count": null,
   "metadata": {},
   "outputs": [],
   "source": [
    "a =  ClassificationModelAssignment()"
   ]
  },
  {
   "cell_type": "code",
   "execution_count": null,
   "metadata": {},
   "outputs": [],
   "source": []
  },
  {
   "cell_type": "code",
   "execution_count": null,
   "metadata": {},
   "outputs": [],
   "source": []
  },
  {
   "cell_type": "code",
   "execution_count": null,
   "metadata": {},
   "outputs": [],
   "source": [
    "RegressionModelAssignment.all_avaliable_model_names"
   ]
  },
  {
   "cell_type": "code",
   "execution_count": null,
   "metadata": {},
   "outputs": [],
   "source": [
    "from src.Regression.Regression import Regression"
   ]
  },
  {
   "cell_type": "code",
   "execution_count": null,
   "metadata": {},
   "outputs": [],
   "source": [
    "import pandas as pd\n",
    "data= pd.DataFrame({'Actual': [1, 2, 3, 4, 3, 6, 1, 2 ,3 ,4 ,1 ],\n",
    "                    'Actual1': [1, 2, 3, 4, 5, 6, 7, 8, 9, 10, 11],\n",
    "                  'Predictions': [1, 6, 5, 4, 9, 6, 1, 2 ,4 ,4 ,1 ]})"
   ]
  },
  {
   "cell_type": "code",
   "execution_count": null,
   "metadata": {},
   "outputs": [],
   "source": [
    "an= Regression(data, 'Predictions')"
   ]
  },
  {
   "cell_type": "code",
   "execution_count": null,
   "metadata": {},
   "outputs": [],
   "source": [
    "an.model_archive['LinearRegression']"
   ]
  },
  {
   "cell_type": "code",
   "execution_count": null,
   "metadata": {},
   "outputs": [],
   "source": [
    "dataclasses= an.get_dataclass('LinearRegression')"
   ]
  },
  {
   "cell_type": "code",
   "execution_count": null,
   "metadata": {},
   "outputs": [],
   "source": [
    "type(dataclasses.fit_intercept)"
   ]
  },
  {
   "cell_type": "code",
   "execution_count": null,
   "metadata": {},
   "outputs": [],
   "source": [
    "from sklearn.linear_model import LinearRegression"
   ]
  },
  {
   "cell_type": "code",
   "execution_count": null,
   "metadata": {},
   "outputs": [],
   "source": [
    "import inspect\n",
    "model_type = 'LinearRegression'\n",
    "\n",
    "model= LinearRegression\n",
    "knowledge = {}\n",
    "signature = inspect.signature(model.__init__)\n",
    "for name, param in signature.parameters.items():\n",
    "    #Iterating over parameters of a single model\n",
    "    if (name != \"self\") & (param.default != inspect.Parameter.empty):\n",
    "        knowledge[name] = {}\n",
    "        knowledge[name]['type']= type(param.default)\n",
    "        knowledge[name]['default'] = param.default"
   ]
  },
  {
   "cell_type": "code",
   "execution_count": null,
   "metadata": {},
   "outputs": [],
   "source": [
    "knowledge"
   ]
  },
  {
   "cell_type": "code",
   "execution_count": null,
   "metadata": {},
   "outputs": [],
   "source": [
    "from dataclasses import make_dataclass, field\n",
    "data_classes= {}\n",
    "ext_configs= knowledge\n",
    "\n",
    "fields = [(param, ext_configs[param]['type'], field(default=ext_configs[param]['default'])) for param in ext_configs.keys()]\n",
    "data_class = make_dataclass('LinearRegression', fields)"
   ]
  },
  {
   "cell_type": "code",
   "execution_count": null,
   "metadata": {},
   "outputs": [],
   "source": [
    "data_class.fit_intercept"
   ]
  },
  {
   "cell_type": "code",
   "execution_count": null,
   "metadata": {},
   "outputs": [],
   "source": [
    "an.get_extended_configs(['LinearRegression'])"
   ]
  },
  {
   "cell_type": "code",
   "execution_count": null,
   "metadata": {},
   "outputs": [],
   "source": [
    "an.get_configs(['LinearRegression'])"
   ]
  },
  {
   "cell_type": "code",
   "execution_count": null,
   "metadata": {},
   "outputs": [],
   "source": [
    "import inspect\n",
    "knowledge= {}\n",
    "model_assignment= an.get_configs(['LinearRegression'])\n",
    "for model in model_assignment.keys():\n",
    "    knowledge[model] = {}\n",
    "    signature = inspect.signature(model_assignment[model].__init__)\n",
    "    for name, param in signature.parameters.items():\n",
    "        #Iterating over parameters of a single model\n",
    "        if (name != \"self\") & (param.default != inspect.Parameter.empty):\n",
    "            knowledge[model][name] = {}\n",
    "            knowledge[model][name]['type']= type(param.default)\n",
    "            knowledge[model][name]['default'] = param.default"
   ]
  },
  {
   "cell_type": "code",
   "execution_count": null,
   "metadata": {},
   "outputs": [],
   "source": []
  },
  {
   "cell_type": "code",
   "execution_count": null,
   "metadata": {},
   "outputs": [],
   "source": []
  },
  {
   "cell_type": "code",
   "execution_count": null,
   "metadata": {},
   "outputs": [],
   "source": []
  },
  {
   "cell_type": "code",
   "execution_count": null,
   "metadata": {},
   "outputs": [],
   "source": [
    "knowledge"
   ]
  },
  {
   "cell_type": "code",
   "execution_count": null,
   "metadata": {},
   "outputs": [],
   "source": [
    "\n",
    "from dataclasses import make_dataclass, field\n",
    "data_classes= {}\n",
    "ext_configs= an.get_extended_configs(['LinearRegression'])\n",
    "\n",
    "for model in ext_configs.keys():\n",
    "    fields = [(param, ext_configs[model][param]['type'], field(default=ext_configs[model][param]['default'])) for param in ext_configs[model].keys()]\n",
    "    data_classes[model] = make_dataclass(model, fields)"
   ]
  },
  {
   "cell_type": "code",
   "execution_count": null,
   "metadata": {},
   "outputs": [],
   "source": [
    "an.get_extended_configs(['LinearRegression'])"
   ]
  },
  {
   "cell_type": "code",
   "execution_count": null,
   "metadata": {},
   "outputs": [],
   "source": [
    "value= [[2,10], 4, 6, 9, 15]"
   ]
  },
  {
   "cell_type": "code",
   "execution_count": null,
   "metadata": {},
   "outputs": [],
   "source": [
    "result = []\n",
    "for item in value:\n",
    "    if isinstance(item, list):\n",
    "        result.extend(range(item[0], item[1] + 1))\n",
    "    else:\n",
    "        result.append(item)\n",
    "\n",
    "result= list(set(result))"
   ]
  },
  {
   "cell_type": "code",
   "execution_count": null,
   "metadata": {},
   "outputs": [],
   "source": [
    "result"
   ]
  },
  {
   "cell_type": "code",
   "execution_count": null,
   "metadata": {},
   "outputs": [],
   "source": [
    "import panel as pn\n",
    "a = pn.WidgetBox('## AAA', pn.widgets.Toggle(name= 'asdwd', value=True))"
   ]
  },
  {
   "cell_type": "code",
   "execution_count": null,
   "metadata": {},
   "outputs": [],
   "source": [
    "a[1].value"
   ]
  },
  {
   "cell_type": "code",
   "execution_count": null,
   "metadata": {},
   "outputs": [],
   "source": []
  }
 ],
 "metadata": {
  "kernelspec": {
   "display_name": "Regression-interactive",
   "language": "python",
   "name": "python3"
  },
  "language_info": {
   "codemirror_mode": {
    "name": "ipython",
    "version": 3
   },
   "file_extension": ".py",
   "mimetype": "text/x-python",
   "name": "python",
   "nbconvert_exporter": "python",
   "pygments_lexer": "ipython3",
   "version": "3.9.16"
  },
  "orig_nbformat": 4
 },
 "nbformat": 4,
 "nbformat_minor": 2
}
