{
 "cells": [
  {
   "cell_type": "code",
   "execution_count": 1,
   "metadata": {},
   "outputs": [
    {
     "name": "stderr",
     "output_type": "stream",
     "text": [
      "c:\\Users\\sizzl\\anaconda3\\envs\\Regression-interactive\\lib\\site-packages\\tqdm\\auto.py:21: TqdmWarning: IProgress not found. Please update jupyter and ipywidgets. See https://ipywidgets.readthedocs.io/en/stable/user_install.html\n",
      "  from .autonotebook import tqdm as notebook_tqdm\n"
     ]
    }
   ],
   "source": [
    "from src.Panel.ML_visualizer_Regression import Visualize_Regression"
   ]
  },
  {
   "cell_type": "code",
   "execution_count": 2,
   "metadata": {},
   "outputs": [],
   "source": [
    "import pandas as pd\n",
    "data= pd.DataFrame({'A': [1, 2, 3, 4, 3, 6, 1, 2 ,3 ,4 ,1 ],\n",
    "                    'A1': [1, 2, 3, 4, 5, 6, 7, 8, 9, 10, 11],\n",
    "                  'P': [1, 6, 5, 4, 9, 6, 1, 2 ,4 ,4 ,1 ]})"
   ]
  },
  {
   "cell_type": "code",
   "execution_count": 3,
   "metadata": {},
   "outputs": [
    {
     "name": "stderr",
     "output_type": "stream",
     "text": [
      "WARNING:param.BootstrapTemplate00129: Setting non-parameter attribute background_color=#FFFFFF using a mechanism intended only for parameters\n",
      "WARNING:param.BootstrapTemplate00129: Setting non-parameter attribute corner_radius=1 using a mechanism intended only for parameters\n"
     ]
    },
    {
     "name": "stderr",
     "output_type": "stream",
     "text": [
      "WARNING:param.BootstrapTemplate00129: Setting non-parameter attribute main_layout= using a mechanism intended only for parameters\n"
     ]
    },
    {
     "name": "stdout",
     "output_type": "stream",
     "text": [
      "Launching server at http://localhost:65466\n"
     ]
    },
    {
     "name": "stdout",
     "output_type": "stream",
     "text": [
      "{'fit_intercept': {'type': <class 'bool'>, 'default': True}, 'copy_X': {'type': <class 'bool'>, 'default': True}, 'n_jobs': {'type': <class 'NoneType'>, 'default': None}, 'positive': {'type': <class 'bool'>, 'default': False}}\n"
     ]
    },
    {
     "name": "stderr",
     "output_type": "stream",
     "text": [
      "WARNING:param.main: PlotlyPlot was not imported on instantiation may not render in the served application. Ensure you add the following to the top of your application:\n",
      "\n",
      "pn.extension('plotly')\n",
      "\n"
     ]
    },
    {
     "name": "stdout",
     "output_type": "stream",
     "text": [
      "Index(['A1', 'A', 'P'], dtype='object')\n",
      "For Train\n",
      "r2_score: 0.9770309477756286\n",
      "mse:0.08636363636363631\n",
      "rmse:0.29387690682262924\n",
      "mape:0.15075757575757584\n",
      "mae:0.24545454545454576\n",
      "For Validation\n",
      "r2_score: -1.2188842975206615\n",
      "mse:13.868026859504134\n",
      "rmse:3.723979975712025\n",
      "mape:0.49842171717171707\n",
      "mae:3.125\n",
      "For Test\n",
      "r2_score: 0.7528696051423327\n",
      "mse:0.5560433884297515\n",
      "rmse:0.7456831689328596\n",
      "mape:0.49999999999999956\n",
      "mae:0.7386363636363633\n"
     ]
    },
    {
     "name": "stderr",
     "output_type": "stream",
     "text": [
      "c:\\Users\\sizzl\\anaconda3\\envs\\Regression-interactive\\lib\\site-packages\\_distutils_hack\\__init__.py:33: UserWarning: Setuptools is replacing distutils.\n",
      "  warnings.warn(\"Setuptools is replacing distutils.\")\n",
      "WARNING:param.Column00560: Setting non-parameter attribute scrollable=True using a mechanism intended only for parameters\n",
      "WARNING:param.Column00656: Setting non-parameter attribute scrollable=True using a mechanism intended only for parameters\n"
     ]
    },
    {
     "name": "stdout",
     "output_type": "stream",
     "text": [
      "For Process\n",
      "r2_score: 0.9770309477756286\n",
      "mse:0.08636363636363631\n",
      "rmse:0.29387690682262924\n",
      "mape:0.15075757575757584\n",
      "mae:0.24545454545454576\n",
      "For Process\n",
      "r2_score: -1.2188842975206615\n",
      "mse:13.868026859504134\n",
      "rmse:3.723979975712025\n",
      "mape:0.49842171717171707\n",
      "mae:3.125\n",
      "For Process\n",
      "r2_score: 0.7528696051423327\n",
      "mse:0.5560433884297515\n",
      "rmse:0.7456831689328596\n",
      "mape:0.49999999999999956\n",
      "mae:0.7386363636363633\n"
     ]
    },
    {
     "name": "stderr",
     "output_type": "stream",
     "text": [
      "WARNING:param.Column00771: Setting non-parameter attribute scrollable=True using a mechanism intended only for parameters\n",
      "ERROR:bokeh.server.protocol_handler:error handling message\n",
      " message: Message 'PATCH-DOC' content: {'events': [{'kind': 'MessageSent', 'msg_type': 'bokeh_event', 'msg_data': {'type': 'event', 'name': 'button_click', 'values': {'type': 'map', 'entries': [['model', {'id': 'p1157'}]]}}}]} \n",
      " error: ValueError(\"\\n    Invalid element(s) received for the 'data' property of \\n        Invalid elements include: [GridSpec(height=800, ncols=6, nrows=3)\\n    [0] Plotly(Figure)\\n    [1] Column\\n        [0] Number(name='R2 score', value=0.9770309477756286)\\n        [1] Number(name='MSE', value=0.08636363636363631)\\n        [2] Number(name='RMSE', value=0.29387690682262924)\\n        [3] Number(name='MAPE', value=0.15075757575757584)\\n        [4] Number(name='MAE', value=0.24545454545454576)\\n    [2] Plotly(Figure)\\n    [3] Column\\n        [0] Number(name='R2 score', value=-1.2188842975206615)\\n        [1] Number(name='MSE', value=13.868026859504134)\\n        [2] Number(name='RMSE', value=3.723979975712025)\\n        [3] Number(name='MAPE', value=0.49842171717171707)\\n        [4] Number(name='MAE', value=3.125)\\n    [4] Plotly(Figure)\\n    [5] Column\\n        [0] Number(name='R2 score', value=0.7528696051423327)\\n        [1] Number(name='MSE', value=0.5560433884297515)\\n        [2] Number(name='RMSE', value=0.7456831689328596)\\n        [3] Number(name='MAPE', value=0.49999999999999956)\\n        [4] Number(name='MAE', value=0.7386363636363633)]\\n\\n    The 'data' property is a tuple of trace instances\\n    that may be specified as:\\n      - A list or tuple of trace instances\\n        (e.g. [Scatter(...), Bar(...)])\\n      - A single trace instance\\n        (e.g. Scatter(...), Bar(...), etc.)\\n      - A list or tuple of dicts of string/value properties where:\\n        - The 'type' property specifies the trace type\\n            One of: ['bar', 'barpolar', 'box', 'candlestick',\\n                     'carpet', 'choropleth', 'choroplethmapbox',\\n                     'cone', 'contour', 'contourcarpet',\\n                     'densitymapbox', 'funnel', 'funnelarea',\\n                     'heatmap', 'heatmapgl', 'histogram',\\n                     'histogram2d', 'histogram2dcontour', 'icicle',\\n                     'image', 'indicator', 'isosurface', 'mesh3d',\\n                     'ohlc', 'parcats', 'parcoords', 'pie',\\n                     'pointcloud', 'sankey', 'scatter',\\n                     'scatter3d', 'scattercarpet', 'scattergeo',\\n                     'scattergl', 'scattermapbox', 'scatterpolar',\\n                     'scatterpolargl', 'scattersmith',\\n                     'scatterternary', 'splom', 'streamtube',\\n                     'sunburst', 'surface', 'table', 'treemap',\\n                     'violin', 'volume', 'waterfall']\\n\\n        - All remaining properties are passed to the constructor of\\n          the specified trace type\\n\\n        (e.g. [{'type': 'scatter', ...}, {'type': 'bar, ...}])\")\n",
      "Traceback (most recent call last):\n",
      "  File \"c:\\Users\\sizzl\\anaconda3\\envs\\Regression-interactive\\lib\\site-packages\\bokeh\\server\\protocol_handler.py\", line 97, in handle\n",
      "    work = await handler(message, connection)\n",
      "  File \"c:\\Users\\sizzl\\anaconda3\\envs\\Regression-interactive\\lib\\site-packages\\bokeh\\server\\session.py\", line 94, in _needs_document_lock_wrapper\n",
      "    result = func(self, *args, **kwargs)\n",
      "  File \"c:\\Users\\sizzl\\anaconda3\\envs\\Regression-interactive\\lib\\site-packages\\bokeh\\server\\session.py\", line 286, in _handle_patch\n",
      "    message.apply_to_document(self.document, self)\n",
      "  File \"c:\\Users\\sizzl\\anaconda3\\envs\\Regression-interactive\\lib\\site-packages\\bokeh\\protocol\\messages\\patch_doc.py\", line 104, in apply_to_document\n",
      "    invoke_with_curdoc(doc, lambda: doc.apply_json_patch(self.payload, setter=setter))\n",
      "  File \"c:\\Users\\sizzl\\anaconda3\\envs\\Regression-interactive\\lib\\site-packages\\bokeh\\document\\callbacks.py\", line 443, in invoke_with_curdoc\n",
      "    return f()\n",
      "  File \"c:\\Users\\sizzl\\anaconda3\\envs\\Regression-interactive\\lib\\site-packages\\bokeh\\protocol\\messages\\patch_doc.py\", line 104, in <lambda>\n",
      "    invoke_with_curdoc(doc, lambda: doc.apply_json_patch(self.payload, setter=setter))\n",
      "  File \"c:\\Users\\sizzl\\anaconda3\\envs\\Regression-interactive\\lib\\site-packages\\bokeh\\document\\document.py\", line 391, in apply_json_patch\n",
      "    DocumentPatchedEvent.handle_event(self, event, setter)\n",
      "  File \"c:\\Users\\sizzl\\anaconda3\\envs\\Regression-interactive\\lib\\site-packages\\bokeh\\document\\events.py\", line 245, in handle_event\n",
      "    event_cls._handle_event(doc, event)\n",
      "  File \"c:\\Users\\sizzl\\anaconda3\\envs\\Regression-interactive\\lib\\site-packages\\bokeh\\document\\events.py\", line 280, in _handle_event\n",
      "    cb(event.msg_data)\n",
      "  File \"c:\\Users\\sizzl\\anaconda3\\envs\\Regression-interactive\\lib\\site-packages\\bokeh\\document\\callbacks.py\", line 390, in trigger_event\n",
      "    model._trigger_event(event)\n",
      "  File \"c:\\Users\\sizzl\\anaconda3\\envs\\Regression-interactive\\lib\\site-packages\\bokeh\\util\\callback_manager.py\", line 113, in _trigger_event\n",
      "    self.document.callbacks.notify_event(cast(Model, self), event, invoke)\n",
      "  File \"c:\\Users\\sizzl\\anaconda3\\envs\\Regression-interactive\\lib\\site-packages\\bokeh\\document\\callbacks.py\", line 260, in notify_event\n",
      "    invoke_with_curdoc(doc, callback_invoker)\n",
      "  File \"c:\\Users\\sizzl\\anaconda3\\envs\\Regression-interactive\\lib\\site-packages\\bokeh\\document\\callbacks.py\", line 443, in invoke_with_curdoc\n",
      "    return f()\n",
      "  File \"c:\\Users\\sizzl\\anaconda3\\envs\\Regression-interactive\\lib\\site-packages\\bokeh\\util\\callback_manager.py\", line 109, in invoke\n",
      "    cast(EventCallbackWithEvent, callback)(event)\n",
      "  File \"c:\\Users\\sizzl\\anaconda3\\envs\\Regression-interactive\\lib\\site-packages\\panel\\reactive.py\", line 492, in _server_event\n",
      "    self._comm_event(doc, event)\n",
      "  File \"c:\\Users\\sizzl\\anaconda3\\envs\\Regression-interactive\\lib\\site-packages\\panel\\reactive.py\", line 479, in _comm_event\n",
      "    state._handle_exception(e)\n",
      "  File \"c:\\Users\\sizzl\\anaconda3\\envs\\Regression-interactive\\lib\\site-packages\\panel\\io\\state.py\", line 436, in _handle_exception\n",
      "    raise exception\n",
      "  File \"c:\\Users\\sizzl\\anaconda3\\envs\\Regression-interactive\\lib\\site-packages\\panel\\reactive.py\", line 477, in _comm_event\n",
      "    self._process_bokeh_event(doc, event)\n",
      "  File \"c:\\Users\\sizzl\\anaconda3\\envs\\Regression-interactive\\lib\\site-packages\\panel\\reactive.py\", line 414, in _process_bokeh_event\n",
      "    self._process_event(event)\n",
      "  File \"c:\\Users\\sizzl\\anaconda3\\envs\\Regression-interactive\\lib\\site-packages\\panel\\widgets\\button.py\", line 243, in _process_event\n",
      "    self.clicks += 1\n",
      "  File \"c:\\Users\\sizzl\\anaconda3\\envs\\Regression-interactive\\lib\\site-packages\\param\\parameterized.py\", line 367, in _f\n",
      "    instance_param.__set__(obj, val)\n",
      "  File \"c:\\Users\\sizzl\\anaconda3\\envs\\Regression-interactive\\lib\\site-packages\\param\\parameterized.py\", line 369, in _f\n",
      "    return f(self, obj, val)\n",
      "  File \"c:\\Users\\sizzl\\anaconda3\\envs\\Regression-interactive\\lib\\site-packages\\param\\__init__.py\", line 625, in __set__\n",
      "    super(Dynamic,self).__set__(obj,val)\n",
      "  File \"c:\\Users\\sizzl\\anaconda3\\envs\\Regression-interactive\\lib\\site-packages\\param\\parameterized.py\", line 369, in _f\n",
      "    return f(self, obj, val)\n",
      "  File \"c:\\Users\\sizzl\\anaconda3\\envs\\Regression-interactive\\lib\\site-packages\\param\\parameterized.py\", line 1252, in __set__\n",
      "    obj.param._call_watcher(watcher, event)\n",
      "  File \"c:\\Users\\sizzl\\anaconda3\\envs\\Regression-interactive\\lib\\site-packages\\param\\parameterized.py\", line 2043, in _call_watcher\n",
      "    self_._execute_watcher(watcher, (event,))\n",
      "  File \"c:\\Users\\sizzl\\anaconda3\\envs\\Regression-interactive\\lib\\site-packages\\param\\parameterized.py\", line 2025, in _execute_watcher\n",
      "    watcher.fn(*args, **kwargs)\n",
      "  File \"c:\\Users\\sizzl\\OneDrive - Algo8.ai\\Desktop (2)\\one-thing\\Regression-interactive\\src\\Panel\\ML_visualizer_Regression.py\", line 152, in <lambda>\n",
      "    self.evaluate_buttons[tab_num].on_click(lambda event: self.evaluate_normal(event, tab_num))\n",
      "  File \"c:\\Users\\sizzl\\OneDrive - Algo8.ai\\Desktop (2)\\one-thing\\Regression-interactive\\src\\Panel\\ML_visualizer_Regression.py\", line 212, in evaluate_normal\n",
      "    self.plotly_simple[tab_num].object= self.gridspecs[tab_num]\n",
      "  File \"c:\\Users\\sizzl\\anaconda3\\envs\\Regression-interactive\\lib\\site-packages\\param\\parameterized.py\", line 369, in _f\n",
      "    return f(self, obj, val)\n",
      "  File \"c:\\Users\\sizzl\\anaconda3\\envs\\Regression-interactive\\lib\\site-packages\\param\\parameterized.py\", line 1252, in __set__\n",
      "    obj.param._call_watcher(watcher, event)\n",
      "  File \"c:\\Users\\sizzl\\anaconda3\\envs\\Regression-interactive\\lib\\site-packages\\param\\parameterized.py\", line 2043, in _call_watcher\n",
      "    self_._execute_watcher(watcher, (event,))\n",
      "  File \"c:\\Users\\sizzl\\anaconda3\\envs\\Regression-interactive\\lib\\site-packages\\param\\parameterized.py\", line 2025, in _execute_watcher\n",
      "    watcher.fn(*args, **kwargs)\n",
      "  File \"c:\\Users\\sizzl\\anaconda3\\envs\\Regression-interactive\\lib\\site-packages\\panel\\pane\\base.py\", line 324, in _update_pane\n",
      "    self._update_object(ref, doc, root, parent, comm)\n",
      "  File \"c:\\Users\\sizzl\\anaconda3\\envs\\Regression-interactive\\lib\\site-packages\\panel\\pane\\base.py\", line 258, in _update_object\n",
      "    self._update(ref, old_model)\n",
      "  File \"c:\\Users\\sizzl\\anaconda3\\envs\\Regression-interactive\\lib\\site-packages\\panel\\pane\\plotly.py\", line 320, in _update\n",
      "    fig = self._to_figure(self.object)\n",
      "  File \"c:\\Users\\sizzl\\anaconda3\\envs\\Regression-interactive\\lib\\site-packages\\panel\\pane\\plotly.py\", line 120, in _to_figure\n",
      "    return go.Figure(data=data, layout=layout)\n",
      "  File \"c:\\Users\\sizzl\\anaconda3\\envs\\Regression-interactive\\lib\\site-packages\\plotly\\graph_objs\\_figure.py\", line 629, in __init__\n",
      "    super(Figure, self).__init__(data, layout, frames, skip_invalid, **kwargs)\n",
      "  File \"c:\\Users\\sizzl\\anaconda3\\envs\\Regression-interactive\\lib\\site-packages\\plotly\\basedatatypes.py\", line 514, in __init__\n",
      "    data = self._data_validator.validate_coerce(\n",
      "  File \"c:\\Users\\sizzl\\anaconda3\\envs\\Regression-interactive\\lib\\site-packages\\_plotly_utils\\basevalidators.py\", line 2702, in validate_coerce\n",
      "    self.raise_invalid_elements(invalid_els)\n",
      "  File \"c:\\Users\\sizzl\\anaconda3\\envs\\Regression-interactive\\lib\\site-packages\\_plotly_utils\\basevalidators.py\", line 303, in raise_invalid_elements\n",
      "    raise ValueError(\n",
      "ValueError: \n",
      "    Invalid element(s) received for the 'data' property of \n",
      "        Invalid elements include: [GridSpec(height=800, ncols=6, nrows=3)\n",
      "    [0] Plotly(Figure)\n",
      "    [1] Column\n",
      "        [0] Number(name='R2 score', value=0.9770309477756286)\n",
      "        [1] Number(name='MSE', value=0.08636363636363631)\n",
      "        [2] Number(name='RMSE', value=0.29387690682262924)\n",
      "        [3] Number(name='MAPE', value=0.15075757575757584)\n",
      "        [4] Number(name='MAE', value=0.24545454545454576)\n",
      "    [2] Plotly(Figure)\n",
      "    [3] Column\n",
      "        [0] Number(name='R2 score', value=-1.2188842975206615)\n",
      "        [1] Number(name='MSE', value=13.868026859504134)\n",
      "        [2] Number(name='RMSE', value=3.723979975712025)\n",
      "        [3] Number(name='MAPE', value=0.49842171717171707)\n",
      "        [4] Number(name='MAE', value=3.125)\n",
      "    [4] Plotly(Figure)\n",
      "    [5] Column\n",
      "        [0] Number(name='R2 score', value=0.7528696051423327)\n",
      "        [1] Number(name='MSE', value=0.5560433884297515)\n",
      "        [2] Number(name='RMSE', value=0.7456831689328596)\n",
      "        [3] Number(name='MAPE', value=0.49999999999999956)\n",
      "        [4] Number(name='MAE', value=0.7386363636363633)]\n",
      "\n",
      "    The 'data' property is a tuple of trace instances\n",
      "    that may be specified as:\n",
      "      - A list or tuple of trace instances\n",
      "        (e.g. [Scatter(...), Bar(...)])\n",
      "      - A single trace instance\n",
      "        (e.g. Scatter(...), Bar(...), etc.)\n",
      "      - A list or tuple of dicts of string/value properties where:\n",
      "        - The 'type' property specifies the trace type\n",
      "            One of: ['bar', 'barpolar', 'box', 'candlestick',\n",
      "                     'carpet', 'choropleth', 'choroplethmapbox',\n",
      "                     'cone', 'contour', 'contourcarpet',\n",
      "                     'densitymapbox', 'funnel', 'funnelarea',\n",
      "                     'heatmap', 'heatmapgl', 'histogram',\n",
      "                     'histogram2d', 'histogram2dcontour', 'icicle',\n",
      "                     'image', 'indicator', 'isosurface', 'mesh3d',\n",
      "                     'ohlc', 'parcats', 'parcoords', 'pie',\n",
      "                     'pointcloud', 'sankey', 'scatter',\n",
      "                     'scatter3d', 'scattercarpet', 'scattergeo',\n",
      "                     'scattergl', 'scattermapbox', 'scatterpolar',\n",
      "                     'scatterpolargl', 'scattersmith',\n",
      "                     'scatterternary', 'splom', 'streamtube',\n",
      "                     'sunburst', 'surface', 'table', 'treemap',\n",
      "                     'violin', 'volume', 'waterfall']\n",
      "\n",
      "        - All remaining properties are passed to the constructor of\n",
      "          the specified trace type\n",
      "\n",
      "        (e.g. [{'type': 'scatter', ...}, {'type': 'bar, ...}])\n"
     ]
    }
   ],
   "source": [
    "a= Visualize_Regression(data)"
   ]
  },
  {
   "cell_type": "code",
   "execution_count": 8,
   "metadata": {},
   "outputs": [
    {
     "name": "stdout",
     "output_type": "stream",
     "text": [
      "Launching server at http://localhost:64941\n"
     ]
    },
    {
     "data": {
      "text/plain": [
       "<panel.io.server.Server at 0x136175b2490>"
      ]
     },
     "execution_count": 8,
     "metadata": {},
     "output_type": "execute_result"
    }
   ],
   "source": [
    "import panel as pn\n",
    "pn.serve(a.plotly_simple[0])"
   ]
  },
  {
   "cell_type": "code",
   "execution_count": 10,
   "metadata": {},
   "outputs": [
    {
     "name": "stdout",
     "output_type": "stream",
     "text": [
      "Yes\n"
     ]
    }
   ],
   "source": [
    "train= None\n",
    "test=None\n",
    "validation= 'P'\n",
    "\n",
    "\n",
    "if ((train is None) | (test is None) | (validation is None)):\n",
    "        print('Yes')\n",
    "else:\n",
    "    print('No')"
   ]
  },
  {
   "cell_type": "code",
   "execution_count": null,
   "metadata": {},
   "outputs": [],
   "source": []
  },
  {
   "cell_type": "code",
   "execution_count": null,
   "metadata": {},
   "outputs": [],
   "source": [
    "RegressionModelAssignment"
   ]
  },
  {
   "cell_type": "code",
   "execution_count": null,
   "metadata": {},
   "outputs": [],
   "source": [
    "from dataclasses import dataclass"
   ]
  },
  {
   "cell_type": "code",
   "execution_count": null,
   "metadata": {},
   "outputs": [],
   "source": [
    "from config.model_types import ModelArchive"
   ]
  },
  {
   "cell_type": "code",
   "execution_count": null,
   "metadata": {},
   "outputs": [],
   "source": [
    "from config.model_types import ModelArchive\n",
    "\n",
    "@dataclass\n",
    "class ModelAssignment:\n",
    "    model_type:str\n",
    "\n",
    "    @property\n",
    "    def model(self):\n",
    "        return ModelArchive().regression[self.model_type]\n",
    "    \n",
    "    @property\n",
    "    def dataclass(self):\n",
    "        return ModelArchive().regression"
   ]
  },
  {
   "cell_type": "code",
   "execution_count": null,
   "metadata": {},
   "outputs": [],
   "source": [
    "a= ModelAssignment('LinearRegression')"
   ]
  },
  {
   "cell_type": "code",
   "execution_count": null,
   "metadata": {},
   "outputs": [],
   "source": [
    "a.get_model"
   ]
  },
  {
   "cell_type": "code",
   "execution_count": null,
   "metadata": {},
   "outputs": [],
   "source": [
    "b = ModelArchive()"
   ]
  },
  {
   "cell_type": "code",
   "execution_count": null,
   "metadata": {},
   "outputs": [],
   "source": [
    "b.regression"
   ]
  },
  {
   "cell_type": "code",
   "execution_count": null,
   "metadata": {},
   "outputs": [],
   "source": [
    "from dataclasses import dataclass, asdict\n",
    "\n",
    "@dataclass\n",
    "class AppConfig:\n",
    "    api_key: str\n",
    "    debug_mode: bool = False\n",
    "    max_retry_attempts: int = 3\n",
    "\n",
    "    @classmethod\n",
    "    def from_dict(cls, config_dict):\n",
    "        return cls(**config_dict)\n",
    "\n",
    "# Create a dictionary with configuration values\n",
    "config_dict = {\n",
    "    'api_key': 'your_api_key_here',\n",
    "    'debug_mode': True,\n",
    "    'max_retry_attempts': 5\n",
    "}\n",
    "\n",
    "# Create an AppConfig instance from the dictionary\n",
    "config = AppConfig.from_dict(config_dict)\n",
    "\n",
    "# Access configuration attributes\n",
    "print(config.api_key)\n",
    "print(config.debug_mode)\n",
    "print(config.max_retry_attempts)\n",
    "\n",
    "# Convert the config instance back to a dictionary\n",
    "config_as_dict = asdict(config)\n",
    "print(config_as_dict)"
   ]
  },
  {
   "cell_type": "code",
   "execution_count": null,
   "metadata": {},
   "outputs": [],
   "source": [
    "from config.model_types import RegressionModelAssignment"
   ]
  },
  {
   "cell_type": "code",
   "execution_count": null,
   "metadata": {},
   "outputs": [],
   "source": [
    "a= RegressionModelAssignment('LinearRegression')"
   ]
  },
  {
   "cell_type": "code",
   "execution_count": null,
   "metadata": {},
   "outputs": [],
   "source": [
    "a.hyperparameters.keys()"
   ]
  },
  {
   "cell_type": "code",
   "execution_count": null,
   "metadata": {},
   "outputs": [],
   "source": [
    "a.hyperparameters_dataclass"
   ]
  },
  {
   "cell_type": "code",
   "execution_count": null,
   "metadata": {},
   "outputs": [],
   "source": [
    "a.all_available_models"
   ]
  },
  {
   "cell_type": "code",
   "execution_count": null,
   "metadata": {},
   "outputs": [],
   "source": [
    "a.all_available_model_names"
   ]
  },
  {
   "cell_type": "code",
   "execution_count": null,
   "metadata": {},
   "outputs": [],
   "source": [
    "from config.model_types import ModelAssignment"
   ]
  },
  {
   "cell_type": "code",
   "execution_count": null,
   "metadata": {},
   "outputs": [],
   "source": [
    "a = ModelAssignment()\n",
    "a.all_available_models"
   ]
  },
  {
   "cell_type": "code",
   "execution_count": null,
   "metadata": {},
   "outputs": [],
   "source": [
    "a.all_available_model_names"
   ]
  },
  {
   "cell_type": "code",
   "execution_count": null,
   "metadata": {},
   "outputs": [],
   "source": [
    "from config.model_types import ClassificationModelAssignment"
   ]
  },
  {
   "cell_type": "code",
   "execution_count": null,
   "metadata": {},
   "outputs": [],
   "source": [
    "a =  ClassificationModelAssignment()"
   ]
  },
  {
   "cell_type": "code",
   "execution_count": null,
   "metadata": {},
   "outputs": [],
   "source": []
  },
  {
   "cell_type": "code",
   "execution_count": null,
   "metadata": {},
   "outputs": [],
   "source": []
  },
  {
   "cell_type": "code",
   "execution_count": null,
   "metadata": {},
   "outputs": [],
   "source": [
    "RegressionModelAssignment.all_avaliable_model_names"
   ]
  },
  {
   "cell_type": "code",
   "execution_count": null,
   "metadata": {},
   "outputs": [],
   "source": [
    "from src.Regression.Regression import Regression"
   ]
  },
  {
   "cell_type": "code",
   "execution_count": null,
   "metadata": {},
   "outputs": [],
   "source": [
    "import pandas as pd\n",
    "data= pd.DataFrame({'Actual': [1, 2, 3, 4, 3, 6, 1, 2 ,3 ,4 ,1 ],\n",
    "                    'Actual1': [1, 2, 3, 4, 5, 6, 7, 8, 9, 10, 11],\n",
    "                  'Predictions': [1, 6, 5, 4, 9, 6, 1, 2 ,4 ,4 ,1 ]})"
   ]
  },
  {
   "cell_type": "code",
   "execution_count": null,
   "metadata": {},
   "outputs": [],
   "source": [
    "an= Regression(data, 'Predictions')"
   ]
  },
  {
   "cell_type": "code",
   "execution_count": null,
   "metadata": {},
   "outputs": [],
   "source": [
    "an.model_archive['LinearRegression']"
   ]
  },
  {
   "cell_type": "code",
   "execution_count": null,
   "metadata": {},
   "outputs": [],
   "source": [
    "dataclasses= an.get_dataclass('LinearRegression')"
   ]
  },
  {
   "cell_type": "code",
   "execution_count": null,
   "metadata": {},
   "outputs": [],
   "source": [
    "type(dataclasses.fit_intercept)"
   ]
  },
  {
   "cell_type": "code",
   "execution_count": null,
   "metadata": {},
   "outputs": [],
   "source": [
    "from sklearn.linear_model import LinearRegression"
   ]
  },
  {
   "cell_type": "code",
   "execution_count": null,
   "metadata": {},
   "outputs": [],
   "source": [
    "import inspect\n",
    "model_type = 'LinearRegression'\n",
    "\n",
    "model= LinearRegression\n",
    "knowledge = {}\n",
    "signature = inspect.signature(model.__init__)\n",
    "for name, param in signature.parameters.items():\n",
    "    #Iterating over parameters of a single model\n",
    "    if (name != \"self\") & (param.default != inspect.Parameter.empty):\n",
    "        knowledge[name] = {}\n",
    "        knowledge[name]['type']= type(param.default)\n",
    "        knowledge[name]['default'] = param.default"
   ]
  },
  {
   "cell_type": "code",
   "execution_count": null,
   "metadata": {},
   "outputs": [],
   "source": [
    "knowledge"
   ]
  },
  {
   "cell_type": "code",
   "execution_count": null,
   "metadata": {},
   "outputs": [],
   "source": [
    "from dataclasses import make_dataclass, field\n",
    "data_classes= {}\n",
    "ext_configs= knowledge\n",
    "\n",
    "fields = [(param, ext_configs[param]['type'], field(default=ext_configs[param]['default'])) for param in ext_configs.keys()]\n",
    "data_class = make_dataclass('LinearRegression', fields)"
   ]
  },
  {
   "cell_type": "code",
   "execution_count": null,
   "metadata": {},
   "outputs": [],
   "source": [
    "data_class.fit_intercept"
   ]
  },
  {
   "cell_type": "code",
   "execution_count": null,
   "metadata": {},
   "outputs": [],
   "source": [
    "an.get_extended_configs(['LinearRegression'])"
   ]
  },
  {
   "cell_type": "code",
   "execution_count": null,
   "metadata": {},
   "outputs": [],
   "source": [
    "an.get_configs(['LinearRegression'])"
   ]
  },
  {
   "cell_type": "code",
   "execution_count": null,
   "metadata": {},
   "outputs": [],
   "source": [
    "import inspect\n",
    "knowledge= {}\n",
    "model_assignment= an.get_configs(['LinearRegression'])\n",
    "for model in model_assignment.keys():\n",
    "    knowledge[model] = {}\n",
    "    signature = inspect.signature(model_assignment[model].__init__)\n",
    "    for name, param in signature.parameters.items():\n",
    "        #Iterating over parameters of a single model\n",
    "        if (name != \"self\") & (param.default != inspect.Parameter.empty):\n",
    "            knowledge[model][name] = {}\n",
    "            knowledge[model][name]['type']= type(param.default)\n",
    "            knowledge[model][name]['default'] = param.default"
   ]
  },
  {
   "cell_type": "code",
   "execution_count": null,
   "metadata": {},
   "outputs": [],
   "source": []
  },
  {
   "cell_type": "code",
   "execution_count": null,
   "metadata": {},
   "outputs": [],
   "source": []
  },
  {
   "cell_type": "code",
   "execution_count": null,
   "metadata": {},
   "outputs": [],
   "source": []
  },
  {
   "cell_type": "code",
   "execution_count": null,
   "metadata": {},
   "outputs": [],
   "source": [
    "knowledge"
   ]
  },
  {
   "cell_type": "code",
   "execution_count": null,
   "metadata": {},
   "outputs": [],
   "source": [
    "\n",
    "from dataclasses import make_dataclass, field\n",
    "data_classes= {}\n",
    "ext_configs= an.get_extended_configs(['LinearRegression'])\n",
    "\n",
    "for model in ext_configs.keys():\n",
    "    fields = [(param, ext_configs[model][param]['type'], field(default=ext_configs[model][param]['default'])) for param in ext_configs[model].keys()]\n",
    "    data_classes[model] = make_dataclass(model, fields)"
   ]
  },
  {
   "cell_type": "code",
   "execution_count": null,
   "metadata": {},
   "outputs": [],
   "source": [
    "an.get_extended_configs(['LinearRegression'])"
   ]
  },
  {
   "cell_type": "code",
   "execution_count": null,
   "metadata": {},
   "outputs": [],
   "source": [
    "value= [[2,10], 4, 6, 9, 15]"
   ]
  },
  {
   "cell_type": "code",
   "execution_count": null,
   "metadata": {},
   "outputs": [],
   "source": [
    "result = []\n",
    "for item in value:\n",
    "    if isinstance(item, list):\n",
    "        result.extend(range(item[0], item[1] + 1))\n",
    "    else:\n",
    "        result.append(item)\n",
    "\n",
    "result= list(set(result))"
   ]
  },
  {
   "cell_type": "code",
   "execution_count": null,
   "metadata": {},
   "outputs": [],
   "source": [
    "result"
   ]
  },
  {
   "cell_type": "code",
   "execution_count": null,
   "metadata": {},
   "outputs": [],
   "source": [
    "import panel as pn\n",
    "a = pn.WidgetBox('## AAA', pn.widgets.Toggle(name= 'asdwd', value=True))"
   ]
  },
  {
   "cell_type": "code",
   "execution_count": null,
   "metadata": {},
   "outputs": [],
   "source": [
    "a[1].value"
   ]
  },
  {
   "cell_type": "code",
   "execution_count": null,
   "metadata": {},
   "outputs": [],
   "source": []
  }
 ],
 "metadata": {
  "kernelspec": {
   "display_name": "Regression-interactive",
   "language": "python",
   "name": "python3"
  },
  "language_info": {
   "codemirror_mode": {
    "name": "ipython",
    "version": 3
   },
   "file_extension": ".py",
   "mimetype": "text/x-python",
   "name": "python",
   "nbconvert_exporter": "python",
   "pygments_lexer": "ipython3",
   "version": "3.9.16"
  },
  "orig_nbformat": 4
 },
 "nbformat": 4,
 "nbformat_minor": 2
}
